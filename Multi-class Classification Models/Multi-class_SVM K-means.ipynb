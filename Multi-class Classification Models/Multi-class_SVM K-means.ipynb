{
 "cells": [
  {
   "cell_type": "markdown",
   "metadata": {},
   "source": [
    "# import"
   ]
  },
  {
   "cell_type": "code",
   "execution_count": 1,
   "metadata": {
    "ExecuteTime": {
     "end_time": "2019-03-26T07:58:36.766472Z",
     "start_time": "2019-03-26T07:58:36.620739Z"
    }
   },
   "outputs": [],
   "source": [
    "import numpy as np"
   ]
  },
  {
   "cell_type": "code",
   "execution_count": 2,
   "metadata": {
    "ExecuteTime": {
     "end_time": "2019-03-26T07:58:36.957481Z",
     "start_time": "2019-03-26T07:58:36.768269Z"
    }
   },
   "outputs": [],
   "source": [
    "import pandas as pd"
   ]
  },
  {
   "cell_type": "code",
   "execution_count": 3,
   "metadata": {
    "ExecuteTime": {
     "end_time": "2019-03-26T07:58:37.374574Z",
     "start_time": "2019-03-26T07:58:36.960650Z"
    }
   },
   "outputs": [],
   "source": [
    "from sklearn import preprocessing"
   ]
  },
  {
   "cell_type": "code",
   "execution_count": 101,
   "metadata": {
    "ExecuteTime": {
     "end_time": "2019-03-27T03:57:43.784454Z",
     "start_time": "2019-03-27T03:57:43.780933Z"
    }
   },
   "outputs": [],
   "source": [
    "from sklearn.model_selection import train_test_split\n",
    "from sklearn import svm\n",
    "from sklearn.svm import SVC\n",
    "from sklearn.model_selection import cross_val_score\n",
    "from sklearn.metrics import accuracy_score\n",
    "from sklearn.metrics import hamming_loss\n",
    "from sklearn.svm import LinearSVC"
   ]
  },
  {
   "cell_type": "code",
   "execution_count": 20,
   "metadata": {
    "ExecuteTime": {
     "end_time": "2019-03-26T09:27:43.964637Z",
     "start_time": "2019-03-26T09:27:43.960727Z"
    }
   },
   "outputs": [],
   "source": [
    "import warnings"
   ]
  },
  {
   "cell_type": "code",
   "execution_count": 74,
   "metadata": {
    "ExecuteTime": {
     "end_time": "2019-03-26T21:41:41.101333Z",
     "start_time": "2019-03-26T21:41:41.097914Z"
    }
   },
   "outputs": [],
   "source": [
    "from collections import namedtuple"
   ]
  },
  {
   "cell_type": "code",
   "execution_count": 158,
   "metadata": {
    "ExecuteTime": {
     "end_time": "2019-03-27T05:17:40.925194Z",
     "start_time": "2019-03-27T05:17:40.905552Z"
    }
   },
   "outputs": [],
   "source": [
    "from imblearn.over_sampling import SMOTE"
   ]
  },
  {
   "cell_type": "markdown",
   "metadata": {},
   "source": [
    "# 1. Multi-class and Multi-Label Classification Using Support Vector Machines"
   ]
  },
  {
   "cell_type": "markdown",
   "metadata": {},
   "source": [
    "## (a) Pre-processing"
   ]
  },
  {
   "cell_type": "code",
   "execution_count": 5,
   "metadata": {
    "ExecuteTime": {
     "end_time": "2019-03-26T07:58:37.484767Z",
     "start_time": "2019-03-26T07:58:37.395673Z"
    },
    "scrolled": false
   },
   "outputs": [
    {
     "data": {
      "text/html": [
       "<div>\n",
       "<style scoped>\n",
       "    .dataframe tbody tr th:only-of-type {\n",
       "        vertical-align: middle;\n",
       "    }\n",
       "\n",
       "    .dataframe tbody tr th {\n",
       "        vertical-align: top;\n",
       "    }\n",
       "\n",
       "    .dataframe thead th {\n",
       "        text-align: right;\n",
       "    }\n",
       "</style>\n",
       "<table border=\"1\" class=\"dataframe\">\n",
       "  <thead>\n",
       "    <tr style=\"text-align: right;\">\n",
       "      <th></th>\n",
       "      <th>MFCCs_ 1</th>\n",
       "      <th>MFCCs_ 2</th>\n",
       "      <th>MFCCs_ 3</th>\n",
       "      <th>MFCCs_ 4</th>\n",
       "      <th>MFCCs_ 5</th>\n",
       "      <th>MFCCs_ 6</th>\n",
       "      <th>MFCCs_ 7</th>\n",
       "      <th>MFCCs_ 8</th>\n",
       "      <th>MFCCs_ 9</th>\n",
       "      <th>MFCCs_10</th>\n",
       "      <th>...</th>\n",
       "      <th>MFCCs_16</th>\n",
       "      <th>MFCCs_17</th>\n",
       "      <th>MFCCs_18</th>\n",
       "      <th>MFCCs_19</th>\n",
       "      <th>MFCCs_20</th>\n",
       "      <th>MFCCs_21</th>\n",
       "      <th>MFCCs_22</th>\n",
       "      <th>Family</th>\n",
       "      <th>Genus</th>\n",
       "      <th>Species</th>\n",
       "    </tr>\n",
       "  </thead>\n",
       "  <tbody>\n",
       "    <tr>\n",
       "      <th>0</th>\n",
       "      <td>1.0</td>\n",
       "      <td>0.152936</td>\n",
       "      <td>-0.105586</td>\n",
       "      <td>0.200722</td>\n",
       "      <td>0.317201</td>\n",
       "      <td>0.260764</td>\n",
       "      <td>0.100945</td>\n",
       "      <td>-0.150063</td>\n",
       "      <td>-0.171128</td>\n",
       "      <td>0.124676</td>\n",
       "      <td>...</td>\n",
       "      <td>-0.024017</td>\n",
       "      <td>-0.108351</td>\n",
       "      <td>-0.077623</td>\n",
       "      <td>-0.009568</td>\n",
       "      <td>0.057684</td>\n",
       "      <td>0.118680</td>\n",
       "      <td>0.014038</td>\n",
       "      <td>Leptodactylidae</td>\n",
       "      <td>Adenomera</td>\n",
       "      <td>AdenomeraAndre</td>\n",
       "    </tr>\n",
       "    <tr>\n",
       "      <th>1</th>\n",
       "      <td>1.0</td>\n",
       "      <td>0.171534</td>\n",
       "      <td>-0.098975</td>\n",
       "      <td>0.268425</td>\n",
       "      <td>0.338672</td>\n",
       "      <td>0.268353</td>\n",
       "      <td>0.060835</td>\n",
       "      <td>-0.222475</td>\n",
       "      <td>-0.207693</td>\n",
       "      <td>0.170883</td>\n",
       "      <td>...</td>\n",
       "      <td>0.012022</td>\n",
       "      <td>-0.090974</td>\n",
       "      <td>-0.056510</td>\n",
       "      <td>-0.035303</td>\n",
       "      <td>0.020140</td>\n",
       "      <td>0.082263</td>\n",
       "      <td>0.029056</td>\n",
       "      <td>Leptodactylidae</td>\n",
       "      <td>Adenomera</td>\n",
       "      <td>AdenomeraAndre</td>\n",
       "    </tr>\n",
       "    <tr>\n",
       "      <th>2</th>\n",
       "      <td>1.0</td>\n",
       "      <td>0.152317</td>\n",
       "      <td>-0.082973</td>\n",
       "      <td>0.287128</td>\n",
       "      <td>0.276014</td>\n",
       "      <td>0.189867</td>\n",
       "      <td>0.008714</td>\n",
       "      <td>-0.242234</td>\n",
       "      <td>-0.219153</td>\n",
       "      <td>0.232538</td>\n",
       "      <td>...</td>\n",
       "      <td>0.083536</td>\n",
       "      <td>-0.050691</td>\n",
       "      <td>-0.023590</td>\n",
       "      <td>-0.066722</td>\n",
       "      <td>-0.025083</td>\n",
       "      <td>0.099108</td>\n",
       "      <td>0.077162</td>\n",
       "      <td>Leptodactylidae</td>\n",
       "      <td>Adenomera</td>\n",
       "      <td>AdenomeraAndre</td>\n",
       "    </tr>\n",
       "    <tr>\n",
       "      <th>3</th>\n",
       "      <td>1.0</td>\n",
       "      <td>0.224392</td>\n",
       "      <td>0.118985</td>\n",
       "      <td>0.329432</td>\n",
       "      <td>0.372088</td>\n",
       "      <td>0.361005</td>\n",
       "      <td>0.015501</td>\n",
       "      <td>-0.194347</td>\n",
       "      <td>-0.098181</td>\n",
       "      <td>0.270375</td>\n",
       "      <td>...</td>\n",
       "      <td>-0.050224</td>\n",
       "      <td>-0.136009</td>\n",
       "      <td>-0.177037</td>\n",
       "      <td>-0.130498</td>\n",
       "      <td>-0.054766</td>\n",
       "      <td>-0.018691</td>\n",
       "      <td>0.023954</td>\n",
       "      <td>Leptodactylidae</td>\n",
       "      <td>Adenomera</td>\n",
       "      <td>AdenomeraAndre</td>\n",
       "    </tr>\n",
       "    <tr>\n",
       "      <th>4</th>\n",
       "      <td>1.0</td>\n",
       "      <td>0.087817</td>\n",
       "      <td>-0.068345</td>\n",
       "      <td>0.306967</td>\n",
       "      <td>0.330923</td>\n",
       "      <td>0.249144</td>\n",
       "      <td>0.006884</td>\n",
       "      <td>-0.265423</td>\n",
       "      <td>-0.172700</td>\n",
       "      <td>0.266434</td>\n",
       "      <td>...</td>\n",
       "      <td>0.062837</td>\n",
       "      <td>-0.048885</td>\n",
       "      <td>-0.053074</td>\n",
       "      <td>-0.088550</td>\n",
       "      <td>-0.031346</td>\n",
       "      <td>0.108610</td>\n",
       "      <td>0.079244</td>\n",
       "      <td>Leptodactylidae</td>\n",
       "      <td>Adenomera</td>\n",
       "      <td>AdenomeraAndre</td>\n",
       "    </tr>\n",
       "  </tbody>\n",
       "</table>\n",
       "<p>5 rows × 25 columns</p>\n",
       "</div>"
      ],
      "text/plain": [
       "   MFCCs_ 1  MFCCs_ 2  MFCCs_ 3  MFCCs_ 4  MFCCs_ 5  MFCCs_ 6  MFCCs_ 7  \\\n",
       "0       1.0  0.152936 -0.105586  0.200722  0.317201  0.260764  0.100945   \n",
       "1       1.0  0.171534 -0.098975  0.268425  0.338672  0.268353  0.060835   \n",
       "2       1.0  0.152317 -0.082973  0.287128  0.276014  0.189867  0.008714   \n",
       "3       1.0  0.224392  0.118985  0.329432  0.372088  0.361005  0.015501   \n",
       "4       1.0  0.087817 -0.068345  0.306967  0.330923  0.249144  0.006884   \n",
       "\n",
       "   MFCCs_ 8  MFCCs_ 9  MFCCs_10       ...        MFCCs_16  MFCCs_17  MFCCs_18  \\\n",
       "0 -0.150063 -0.171128  0.124676       ...       -0.024017 -0.108351 -0.077623   \n",
       "1 -0.222475 -0.207693  0.170883       ...        0.012022 -0.090974 -0.056510   \n",
       "2 -0.242234 -0.219153  0.232538       ...        0.083536 -0.050691 -0.023590   \n",
       "3 -0.194347 -0.098181  0.270375       ...       -0.050224 -0.136009 -0.177037   \n",
       "4 -0.265423 -0.172700  0.266434       ...        0.062837 -0.048885 -0.053074   \n",
       "\n",
       "   MFCCs_19  MFCCs_20  MFCCs_21  MFCCs_22           Family      Genus  \\\n",
       "0 -0.009568  0.057684  0.118680  0.014038  Leptodactylidae  Adenomera   \n",
       "1 -0.035303  0.020140  0.082263  0.029056  Leptodactylidae  Adenomera   \n",
       "2 -0.066722 -0.025083  0.099108  0.077162  Leptodactylidae  Adenomera   \n",
       "3 -0.130498 -0.054766 -0.018691  0.023954  Leptodactylidae  Adenomera   \n",
       "4 -0.088550 -0.031346  0.108610  0.079244  Leptodactylidae  Adenomera   \n",
       "\n",
       "          Species  \n",
       "0  AdenomeraAndre  \n",
       "1  AdenomeraAndre  \n",
       "2  AdenomeraAndre  \n",
       "3  AdenomeraAndre  \n",
       "4  AdenomeraAndre  \n",
       "\n",
       "[5 rows x 25 columns]"
      ]
     },
     "execution_count": 5,
     "metadata": {},
     "output_type": "execute_result"
    }
   ],
   "source": [
    "# read the data\n",
    "frogs_rawdata = pd.read_csv('./1 Multi-class and Multi-Label Classification Using Support Vector Machines/Anuran Calls (MFCCs)/Frogs_MFCCs.csv').drop([\"RecordID\"], axis = 1)\n",
    "frogs_columns = list(frogs_rawdata)\n",
    "frogs_rawdata.head()\n"
   ]
  },
  {
   "cell_type": "code",
   "execution_count": 205,
   "metadata": {
    "ExecuteTime": {
     "end_time": "2019-03-28T06:18:02.745708Z",
     "start_time": "2019-03-28T06:18:02.698381Z"
    },
    "scrolled": true
   },
   "outputs": [
    {
     "name": "stdout",
     "output_type": "stream",
     "text": [
      "            Family\n",
      "0  Leptodactylidae\n",
      "1    Dendrobatidae\n",
      "2          Hylidae\n",
      "3  Leptodactylidae\n",
      "4  Leptodactylidae \n",
      "\n",
      "       Genus\n",
      "0  Adenomera\n",
      "1   Ameerega\n",
      "2  Hypsiboas\n",
      "3  Adenomera\n",
      "4  Adenomera \n",
      "\n",
      "                  Species\n",
      "0  AdenomeraHylaedactylus\n",
      "1      Ameeregatrivittata\n",
      "2    HypsiboasCinerascens\n",
      "3  AdenomeraHylaedactylus\n",
      "4          AdenomeraAndre \n",
      "\n",
      "            Family\n",
      "0  Leptodactylidae\n",
      "1          Hylidae\n",
      "2          Hylidae\n",
      "3  Leptodactylidae\n",
      "4  Leptodactylidae \n",
      "\n",
      "       Genus\n",
      "0  Adenomera\n",
      "1  Hypsiboas\n",
      "2  Hypsiboas\n",
      "3  Adenomera\n",
      "4  Adenomera \n",
      "\n",
      "                  Species\n",
      "0  AdenomeraHylaedactylus\n",
      "1    HypsiboasCinerascens\n",
      "2       HypsiboasCordobae\n",
      "3  AdenomeraHylaedactylus\n",
      "4  AdenomeraHylaedactylus \n",
      "\n"
     ]
    }
   ],
   "source": [
    "# split the data to X and y\n",
    "frogs_X_rawdata = frogs_rawdata.iloc[:, 0:22]\n",
    "frogs_y = frogs_rawdata.iloc[:, 22:25]\n",
    "\n",
    "# split the X and y to their training and test sets\n",
    "frogs_X_train_rawdata, frogs_X_test_rawdata, frogs_y_train, frogs_y_test = train_test_split(frogs_X_rawdata, frogs_y, test_size=0.3, random_state=42)\n",
    "frogs_y_train = frogs_y_train.reset_index(drop = True)\n",
    "frogs_y_test = frogs_y_test.reset_index(drop = True)\n",
    "\n",
    "# split y_train and y_test in addition\n",
    "frogs_y_f_train = pd.DataFrame(data = frogs_y_train.iloc[:, 0], index =None, columns=['Family'])\n",
    "print(frogs_y_f_train.head(), '\\n')\n",
    "frogs_y_g_train = pd.DataFrame(data = frogs_y_train.iloc[:, 1], index =None, columns=['Genus'])\n",
    "print(frogs_y_g_train.head(), '\\n')\n",
    "frogs_y_s_train = pd.DataFrame(data = frogs_y_train.iloc[:, 2], index =None, columns=['Species'])\n",
    "print(frogs_y_s_train.head(), '\\n')\n",
    "\n",
    "frogs_y_f_test = pd.DataFrame(data = frogs_y_test.iloc[:, 0], index =None, columns=['Family'])\n",
    "print(frogs_y_f_test.head(), '\\n')\n",
    "frogs_y_g_test = pd.DataFrame(data = frogs_y_test.iloc[:, 1], index =None, columns=['Genus'])\n",
    "print(frogs_y_g_test.head(), '\\n')\n",
    "frogs_y_s_test = pd.DataFrame(data = frogs_y_test.iloc[:, 2], index =None, columns=['Species'])\n",
    "print(frogs_y_s_test.head(), '\\n')\n"
   ]
  },
  {
   "cell_type": "code",
   "execution_count": 7,
   "metadata": {
    "ExecuteTime": {
     "end_time": "2019-03-26T07:58:37.568208Z",
     "start_time": "2019-03-26T07:58:37.530191Z"
    }
   },
   "outputs": [
    {
     "name": "stdout",
     "output_type": "stream",
     "text": [
      "   MFCCs_ 1  MFCCs_ 2  MFCCs_ 3  MFCCs_ 4  MFCCs_ 5  MFCCs_ 6  MFCCs_ 7  \\\n",
      "0  0.152650  0.003519 -0.113627  0.784358 -0.200077 -1.106064 -0.460771   \n",
      "1  0.152650 -0.425788 -1.730997 -3.300931 -1.247680  1.314366  2.713662   \n",
      "2 -0.303474  0.586027  2.605770  0.592614 -3.358105  1.742951  1.435300   \n",
      "3  0.152650 -0.312156 -0.756501  0.504547  0.355322 -0.439906 -0.946771   \n",
      "4  0.152650  0.340871  0.950464  0.822589 -1.582777 -1.288530  2.603894   \n",
      "\n",
      "   MFCCs_ 8  MFCCs_ 9  MFCCs_10    ...     MFCCs_13  MFCCs_14  MFCCs_15  \\\n",
      "0  1.257761  0.937894 -1.401044    ...     1.392737 -0.718716 -0.844945   \n",
      "1  2.243005 -1.689411 -2.671442    ...    -1.256970  2.445364  2.011597   \n",
      "2 -0.555779 -0.345921 -0.860185    ...    -1.085333 -0.669404  1.415884   \n",
      "3 -0.126135  0.369278 -0.295261    ...     1.229407 -0.236187 -1.168372   \n",
      "4  0.570650 -2.549861  0.786700    ...    -1.372063  1.524571  1.223935   \n",
      "\n",
      "   MFCCs_16  MFCCs_17  MFCCs_18  MFCCs_19  MFCCs_20  MFCCs_21  MFCCs_22  \n",
      "0  1.149412  0.938437 -0.599301 -0.945201 -0.386661  0.763875  0.841487  \n",
      "1 -1.677197 -2.770201 -0.609333  0.476943  0.226740 -0.149397 -0.377184  \n",
      "2 -0.419475 -1.006422 -0.730157  0.262610  0.888295 -0.211064 -1.566154  \n",
      "3 -0.143824  1.003501  0.310414 -0.697276 -0.992017  0.087123  1.316269  \n",
      "4 -1.597081 -0.668013  1.752018  0.401533 -0.015516  0.646985 -0.015540  \n",
      "\n",
      "[5 rows x 22 columns] \n",
      "\n",
      "The size if standardized training set of independent variables is (5036, 22) \n",
      "\n",
      "   MFCCs_ 1  MFCCs_ 2  MFCCs_ 3  MFCCs_ 4  MFCCs_ 5  MFCCs_ 6  MFCCs_ 7  \\\n",
      "0   0.15265 -0.812707 -1.127762 -0.086160  0.252946 -0.361583 -0.877232   \n",
      "1   0.15265  1.575913  1.724723 -0.345222 -0.577272  0.702547 -0.052350   \n",
      "2   0.15265 -1.516973  0.192722 -0.213163  0.418573  1.040984  0.608340   \n",
      "3   0.15265  0.465593 -0.055109  1.015934  0.838262 -1.053932 -0.929457   \n",
      "4   0.15265 -0.617269 -0.948161  1.067020  0.496249 -0.577255 -1.249424   \n",
      "\n",
      "   MFCCs_ 8  MFCCs_ 9  MFCCs_10    ...     MFCCs_13  MFCCs_14  MFCCs_15  \\\n",
      "0 -0.886424  0.124113  0.573514    ...     0.923696  0.319018 -1.006934   \n",
      "1  1.607834  0.076831 -3.803644    ...    -1.423726 -1.125315  2.071589   \n",
      "2 -1.344313 -0.936701  0.613562    ...    -0.653730  0.075775 -0.001196   \n",
      "3  0.651724  0.873426 -0.032626    ...     1.083244  0.346690 -1.149298   \n",
      "4  0.078611  0.947564 -0.135624    ...     1.218822 -0.467637 -1.090657   \n",
      "\n",
      "   MFCCs_16  MFCCs_17  MFCCs_18  MFCCs_19  MFCCs_20  MFCCs_21  MFCCs_22  \n",
      "0 -0.215257  1.430968  1.860333 -0.154721 -1.468609 -0.410889  1.357805  \n",
      "1  0.519648 -1.795517 -0.679947  0.390902  1.950625 -0.309475 -2.950222  \n",
      "2 -0.399407  0.263211  0.427443  0.425042  0.296953 -1.574151 -0.866747  \n",
      "3 -0.550965  1.027922  0.712376 -0.638779 -1.047677  0.042107  1.183077  \n",
      "4  0.338553  1.691607  1.417543 -1.265562 -1.805166 -0.247729  1.320368  \n",
      "\n",
      "[5 rows x 22 columns] \n",
      "\n",
      "The size if standardized test set of independent variables is (2159, 22)\n"
     ]
    }
   ],
   "source": [
    "# standardize the Xs\n",
    "\n",
    "scaler = preprocessing.StandardScaler().fit(frogs_X_train_rawdata)\n",
    "frogs_X_train = pd.DataFrame(data = scaler.transform(frogs_X_train_rawdata),\n",
    "                             index = None,\n",
    "                             columns = frogs_columns[0:22])\n",
    "print(frogs_X_train.head(), '\\n')\n",
    "print('The size if standardized training set of independent variables is', frogs_X_train.shape, '\\n')\n",
    "\n",
    "\n",
    "frogs_X_test = pd.DataFrame(data = scaler.transform(frogs_X_test_rawdata),\n",
    "                             index = None,\n",
    "                             columns = frogs_columns[0:22])\n",
    "print(frogs_X_test.head(),'\\n')\n",
    "print('The size if standardized test set of independent variables is', frogs_X_test.shape)"
   ]
  },
  {
   "cell_type": "markdown",
   "metadata": {},
   "source": [
    "## (b) Solve a multi-class and multi-label problem by training a classifier for each label."
   ]
  },
  {
   "cell_type": "markdown",
   "metadata": {
    "ExecuteTime": {
     "end_time": "2019-03-26T07:30:00.566324Z",
     "start_time": "2019-03-26T07:29:59.551Z"
    }
   },
   "source": [
    "### (i) Research"
   ]
  },
  {
   "cell_type": "markdown",
   "metadata": {},
   "source": [
    "Exact match\n",
    "Exact match is a multi-classification model evaluation approach that calculate the accuracy of predictions that exactly match the true labels in each instance.\n",
    "\n",
    "\n",
    "Hamming loss\n",
    "Exact match is a multi-classification model evaluation approach that calculate the error rate of any single predicted label.\n"
   ]
  },
  {
   "cell_type": "markdown",
   "metadata": {},
   "source": [
    "### (ii) Train a SVM model with Gaussian kernels and one versus all classifiers determined by 10 folds cross validation"
   ]
  },
  {
   "cell_type": "code",
   "execution_count": 95,
   "metadata": {
    "ExecuteTime": {
     "end_time": "2019-03-27T03:11:37.039139Z",
     "start_time": "2019-03-27T02:48:26.126974Z"
    },
    "scrolled": false
   },
   "outputs": [
    {
     "name": "stdout",
     "output_type": "stream",
     "text": [
      "{0.9910646884613632: frogs_para(C=10.0, gamma=0.1), 0.9851044120964954: frogs_para(C=10.0, gamma=0.2), 0.9809333970207215: frogs_para(C=10.0, gamma=0.30000000000000004), 0.9761698910280986: frogs_para(C=10.0, gamma=0.4), 0.9712016797175067: frogs_para(C=10.0, gamma=0.5), 0.9666377713521819: frogs_para(C=10.0, gamma=0.6), 0.964054851467637: frogs_para(C=10.0, gamma=0.7000000000000001), 0.9642556262312819: frogs_para(C=10.0, gamma=0.8), 0.9289120130910884: frogs_para(C=10.0, gamma=0.9), 0.9112406072053313: frogs_para(C=10.0, gamma=1.0), 0.8971469287779327: frogs_para(C=10.0, gamma=1.1), 0.8820552886790353: frogs_para(C=10.0, gamma=1.2000000000000002), 0.8663676184617091: frogs_para(C=10.0, gamma=1.3000000000000003), 0.8518688606324052: frogs_para(C=10.0, gamma=1.4000000000000001), 0.8417411130799805: frogs_para(C=10.0, gamma=1.5000000000000002), 0.8284395216345166: frogs_para(C=10.0, gamma=1.6), 0.8181102057145196: frogs_para(C=10.0, gamma=1.7000000000000002), 0.807387600484114: frogs_para(C=10.0, gamma=1.8000000000000003), 0.7990471419368207: frogs_para(C=10.0, gamma=1.9000000000000001), 0.7915019135799704: frogs_para(C=10.0, gamma=2.0), 0.9884833448491854: frogs_para(C=1.0, gamma=0.1), 0.9837163027608838: frogs_para(C=1.0, gamma=0.2), 0.9795425342763954: frogs_para(C=1.0, gamma=0.30000000000000004), 0.9755734695569256: frogs_para(C=1.0, gamma=0.4), 0.9700119846425205: frogs_para(C=1.0, gamma=0.5), 0.9652484817650604: frogs_para(C=1.0, gamma=0.6), 0.9622695191613925: frogs_para(C=1.0, gamma=0.7000000000000001), 0.963062783288936: frogs_para(C=1.0, gamma=0.8), 0.9243477118200689: frogs_para(C=1.0, gamma=0.9), 0.9066715818038468: frogs_para(C=1.0, gamma=1.0), 0.8899965582020583: frogs_para(C=1.0, gamma=1.1), 0.8713295387056951: frogs_para(C=1.0, gamma=1.2000000000000002), 0.8546509790174899: frogs_para(C=1.0, gamma=1.3000000000000003), 0.8415403383070734: frogs_para(C=1.0, gamma=1.4000000000000001), 0.8282403184658638: frogs_para(C=1.0, gamma=1.5000000000000002), 0.812748313750037: frogs_para(C=1.0, gamma=1.6), 0.8032193372641044: frogs_para(C=1.0, gamma=1.7000000000000002), 0.7940824729522333: frogs_para(C=1.0, gamma=1.8000000000000003), 0.7847464085776099: frogs_para(C=1.0, gamma=1.9000000000000001), 0.7793845150601769: frogs_para(C=1.0, gamma=2.0), 0.9718055662672078: frogs_para(C=0.1, gamma=0.1), 0.9731901441845159: frogs_para(C=0.1, gamma=0.2), 0.9666401380855273: frogs_para(C=0.1, gamma=0.30000000000000004), 0.9126267426855055: frogs_para(C=0.1, gamma=0.4), 0.8657633280893503: frogs_para(C=0.1, gamma=0.5), 0.819302261292526: frogs_para(C=0.1, gamma=0.6), 0.783361044876699: frogs_para(C=0.1, gamma=0.7000000000000001), 0.7581388960241244: frogs_para(C=0.1, gamma=0.8), 0.7440401098967928: frogs_para(C=0.1, gamma=0.9), 0.7366928982267601: frogs_para(C=0.1, gamma=1.0), 0.7321250515238353: frogs_para(C=0.1, gamma=1.1), 0.7291468778374571: frogs_para(C=0.1, gamma=1.2000000000000002), 0.72696196516346: frogs_para(C=0.1, gamma=1.3000000000000003), 0.7249746809479609: frogs_para(C=0.1, gamma=1.4000000000000001), 0.7215992905212751: frogs_para(C=0.1, gamma=1.5000000000000002), 0.7182238985323769: frogs_para(C=0.1, gamma=1.6), 0.7156449076399434: frogs_para(C=0.1, gamma=1.7000000000000002), 0.7136584107795219: frogs_para(C=0.1, gamma=1.8000000000000003), 0.7116730926176599: frogs_para(C=0.1, gamma=1.9000000000000001), 0.7090937150591194: frogs_para(C=0.1, gamma=2.0), 0.8556399070843206: frogs_para(C=0.01, gamma=0.1), 0.7849503187664876: frogs_para(C=0.01, gamma=0.2), 0.7335218171064479: frogs_para(C=0.01, gamma=0.30000000000000004), 0.7277634864205089: frogs_para(C=0.01, gamma=0.4), 0.7202143259471225: frogs_para(C=0.01, gamma=0.5), 0.707504433395317: frogs_para(C=0.01, gamma=0.6), 0.6868556365101459: frogs_para(C=0.01, gamma=0.7000000000000001), 0.6606390605288007: frogs_para(C=0.01, gamma=0.8), 0.6413783776473545: frogs_para(C=0.01, gamma=0.9), 0.6258926640073957: frogs_para(C=0.01, gamma=1.0), 0.6157680549768424: frogs_para(C=0.01, gamma=1.1), 0.6112013916405903: frogs_para(C=0.01, gamma=1.2000000000000002), 0.6104061630123596: frogs_para(C=0.01, gamma=1.3000000000000003), 0.610207355855302: frogs_para(C=0.001, gamma=2.0)}\n"
     ]
    }
   ],
   "source": [
    "# for label\"Family\"\n",
    "\n",
    "frogs_cv_G_f_dict= {}\n",
    "frogs_para = namedtuple(\"frogs_para\", [\"C\", \"gamma\"])\n",
    "for c in (1e3, 1e2, 1e1, 1e0, 1e-1, 1e-2, 1e-3):\n",
    "    for gm in np.arange(0.1, 2.1, 0.1):\n",
    "        clf_G_f = svm.SVC(kernel='rbf', C = c, gamma = gm) \n",
    "        # 10 folds cross validation on each paired parameters\n",
    "        clf_G_f_cv_scores = cross_val_score(clf_G_f, frogs_X_train, frogs_y_f_train, cv = 10)\n",
    "        clf_G_f_cv = sum(clf_G_f_cv_scores)/10\n",
    "        # add cv scores to the dictionary\n",
    "        frogs_cv_G_f_dict[clf_G_f_cv] = frogs_para(C = c, gamma = gm)\n",
    "print(frogs_cv_G_f_dict)"
   ]
  },
  {
   "cell_type": "code",
   "execution_count": 96,
   "metadata": {
    "ExecuteTime": {
     "end_time": "2019-03-27T03:11:37.047115Z",
     "start_time": "2019-03-27T03:11:37.041603Z"
    },
    "scrolled": true
   },
   "outputs": [
    {
     "name": "stdout",
     "output_type": "stream",
     "text": [
      "The highest cross-validation score and its parameters for \"Family\" is (0.9910646884613632, frogs_para(C=10.0, gamma=0.1))\n"
     ]
    }
   ],
   "source": [
    "# determine the parameters\n",
    "frogs_para_G_f = max(zip(frogs_cv_G_f_dict.keys(), frogs_cv_G_f_dict.values()))\n",
    "print('The highest cross-validation score and its parameters for \"Family\" is', frogs_para_G_f)\n"
   ]
  },
  {
   "cell_type": "code",
   "execution_count": 181,
   "metadata": {
    "ExecuteTime": {
     "end_time": "2019-03-28T04:15:43.205967Z",
     "start_time": "2019-03-28T03:42:07.171482Z"
    }
   },
   "outputs": [
    {
     "name": "stdout",
     "output_type": "stream",
     "text": [
      "{0.9874880145443072: frogs_para(C=10.0, gamma=0.1), 0.9771660808006718: frogs_para(C=10.0, gamma=0.2), 0.9684247832426021: frogs_para(C=10.0, gamma=0.30000000000000004), 0.9606743892898633: frogs_para(C=10.0, gamma=0.4), 0.9398254641696978: frogs_para(C=10.0, gamma=0.5), 0.9249222669859156: frogs_para(C=10.0, gamma=0.6), 0.9066542706355356: frogs_para(C=10.0, gamma=0.7000000000000001), 0.8893740299398412: frogs_para(C=10.0, gamma=0.8), 0.8762742621025401: frogs_para(C=10.0, gamma=0.9), 0.859404671687703: frogs_para(C=10.0, gamma=1.0), 0.8447124555444623: frogs_para(C=10.0, gamma=1.1), 0.831222958103006: frogs_para(C=10.0, gamma=1.2000000000000002), 0.8181059072043219: frogs_para(C=10.0, gamma=1.3000000000000003), 0.8044156365057112: frogs_para(C=10.0, gamma=1.4000000000000001), 0.7938858337029153: frogs_para(C=10.0, gamma=1.5000000000000002), 0.784165055120249: frogs_para(C=10.0, gamma=1.6), 0.7730407985741644: frogs_para(C=10.0, gamma=1.7000000000000002), 0.7649002693618727: frogs_para(C=10.0, gamma=1.8000000000000003), 0.7555692203277887: frogs_para(C=10.0, gamma=1.9000000000000001), 0.7506013533534539: frogs_para(C=10.0, gamma=2.0), 0.9845102133612065: frogs_para(C=1.0, gamma=0.1), 0.9749776038081797: frogs_para(C=1.0, gamma=0.2), 0.9654438341457567: frogs_para(C=1.0, gamma=0.30000000000000004), 0.9574985745910507: frogs_para(C=1.0, gamma=0.4), 0.9346646959636713: frogs_para(C=1.0, gamma=0.5), 0.9179753620361172: frogs_para(C=1.0, gamma=0.6), 0.8981114124456706: frogs_para(C=1.0, gamma=0.7000000000000001), 0.8810382344551373: frogs_para(C=1.0, gamma=0.8), 0.8649658138560723: frogs_para(C=1.0, gamma=0.9), 0.8472973665995596: frogs_para(C=1.0, gamma=1.0), 0.8334059375496059: frogs_para(C=1.0, gamma=1.1), 0.8175122407504614: frogs_para(C=1.0, gamma=1.2000000000000002), 0.8030196347513335: frogs_para(C=1.0, gamma=1.3000000000000003), 0.7924953607212608: frogs_para(C=1.0, gamma=1.4000000000000001), 0.7797975558868224: frogs_para(C=1.0, gamma=1.5000000000000002), 0.7686721362276965: frogs_para(C=1.0, gamma=1.6), 0.7593403075288176: frogs_para(C=1.0, gamma=1.7000000000000002), 0.7511958180701653: frogs_para(C=1.0, gamma=1.8000000000000003), 0.7424552954709893: frogs_para(C=1.0, gamma=1.9000000000000001), 0.735503667841644: frogs_para(C=1.0, gamma=2.0), 0.9499564346885192: frogs_para(C=0.1, gamma=0.1), 0.915792418549815: frogs_para(C=0.1, gamma=0.2), 0.8776631651074311: frogs_para(C=0.1, gamma=0.30000000000000004), 0.8397516890117933: frogs_para(C=0.1, gamma=0.4), 0.8038203905430972: frogs_para(C=0.1, gamma=0.5), 0.7692713297146064: frogs_para(C=0.1, gamma=0.6), 0.7355143154079864: frogs_para(C=0.1, gamma=0.7000000000000001), 0.7166341406279038: frogs_para(C=0.1, gamma=0.8), 0.7067102078735313: frogs_para(C=0.1, gamma=0.9), 0.6999636723577863: frogs_para(C=0.1, gamma=1.0), 0.6969842917592215: frogs_para(C=0.1, gamma=1.1), 0.6930084991660513: frogs_para(C=0.1, gamma=1.2000000000000002), 0.6910243425177487: frogs_para(C=0.1, gamma=1.3000000000000003), 0.6880425888529637: frogs_para(C=0.1, gamma=1.4000000000000001), 0.6846687356421537: frogs_para(C=0.1, gamma=1.5000000000000002), 0.682681435729768: frogs_para(C=0.1, gamma=1.6), 0.6801016246187468: frogs_para(C=0.1, gamma=1.7000000000000002), 0.6775198771187076: frogs_para(C=0.1, gamma=1.8000000000000003), 0.6751381170828835: frogs_para(C=0.1, gamma=1.9000000000000001), 0.6727559609518082: frogs_para(C=0.1, gamma=2.0), 0.7772012097798212: frogs_para(C=0.01, gamma=0.1), 0.714077157159911: frogs_para(C=0.01, gamma=0.2), 0.6965988903478114: frogs_para(C=0.01, gamma=0.30000000000000004), 0.6904377562152443: frogs_para(C=0.01, gamma=0.4), 0.6824901110124459: frogs_para(C=0.01, gamma=0.5), 0.6701737799827959: frogs_para(C=0.01, gamma=0.6), 0.6477414757670307: frogs_para(C=0.01, gamma=0.7000000000000001), 0.6225199106829762: frogs_para(C=0.01, gamma=0.8), 0.6036554926938896: frogs_para(C=0.01, gamma=0.9), 0.5895601424543646: frogs_para(C=0.01, gamma=1.0), 0.581029852457841: frogs_para(C=0.01, gamma=1.1), 0.5766572235599978: frogs_para(C=0.01, gamma=1.2000000000000002), 0.5758600131998417: frogs_para(C=0.01, gamma=1.3000000000000003), 0.575661600501429: frogs_para(C=0.001, gamma=2.0)}\n"
     ]
    }
   ],
   "source": [
    "# for label \"Genus\"\n",
    "\n",
    "frogs_cv_G_g_dict= {}\n",
    "frogs_para = namedtuple(\"frogs_para\", [\"C\", \"gamma\"])\n",
    "for c in (1e3, 1e2, 1e1, 1e0, 1e-1, 1e-2, 1e-3):\n",
    "    for gm in np.arange(0.1, 2.1, 0.1):\n",
    "        clf_G_g = svm.SVC(kernel='rbf', C = c, gamma = gm)\n",
    "        # 10 folds cross validation on each paired parameters\n",
    "        clf_G_g_cv_scores = cross_val_score(clf_G_g, frogs_X_train, frogs_y_g_train, cv = 10)\n",
    "        clf_G_g_cv = sum(clf_G_g_cv_scores)/10\n",
    "        # add cv scores to the dictionary\n",
    "        frogs_cv_G_g_dict[clf_G_g_cv] = frogs_para(C = c, gamma = gm)\n",
    "print(frogs_cv_G_g_dict)"
   ]
  },
  {
   "cell_type": "code",
   "execution_count": 182,
   "metadata": {
    "ExecuteTime": {
     "end_time": "2019-03-28T04:15:43.212041Z",
     "start_time": "2019-03-28T04:15:43.208512Z"
    }
   },
   "outputs": [
    {
     "name": "stdout",
     "output_type": "stream",
     "text": [
      "The highest cross-validation score and its parameters for \"Genus\" is (0.9874880145443072, frogs_para(C=10.0, gamma=0.1))\n"
     ]
    }
   ],
   "source": [
    "# determine the parameters\n",
    "frogs_para_G_g = max(zip(frogs_cv_G_g_dict.keys(), frogs_cv_G_g_dict.values()))\n",
    "print('The highest cross-validation score and its parameters for \"Genus\" is', frogs_para_G_g)\n"
   ]
  },
  {
   "cell_type": "code",
   "execution_count": 183,
   "metadata": {
    "ExecuteTime": {
     "end_time": "2019-03-28T04:48:20.214044Z",
     "start_time": "2019-03-28T04:15:43.214068Z"
    }
   },
   "outputs": [
    {
     "name": "stdout",
     "output_type": "stream",
     "text": [
      "{0.9847025346338063: frogs_para(C=100.0, gamma=0.1), 0.9737839821654081: frogs_para(C=10.0, gamma=0.2), 0.96563589535558: frogs_para(C=10.0, gamma=0.30000000000000004), 0.9483665147461874: frogs_para(C=10.0, gamma=0.4), 0.9332698824034231: frogs_para(C=10.0, gamma=0.5), 0.9151958117187956: frogs_para(C=10.0, gamma=0.6), 0.8961205387801607: frogs_para(C=10.0, gamma=0.7000000000000001), 0.8786549685581433: frogs_para(C=10.0, gamma=0.8), 0.8581991001744698: frogs_para(C=10.0, gamma=0.9), 0.8389506331394816: frogs_para(C=10.0, gamma=1.0), 0.8191002560537379: frogs_para(C=10.0, gamma=1.1), 0.8014229248394527: frogs_para(C=10.0, gamma=1.2000000000000002), 0.7835534801015607: frogs_para(C=10.0, gamma=1.3000000000000003), 0.76686906069033: frogs_para(C=10.0, gamma=1.4000000000000001), 0.7517972194140605: frogs_para(C=10.0, gamma=1.5000000000000002), 0.7372981857732952: frogs_para(C=10.0, gamma=1.6), 0.7202291400413767: frogs_para(C=10.0, gamma=1.7000000000000002), 0.7077174139766688: frogs_para(C=10.0, gamma=1.8000000000000003), 0.6957985466246263: frogs_para(C=10.0, gamma=1.9000000000000001), 0.6858779935834998: frogs_para(C=10.0, gamma=2.0), 0.9847041219353935: frogs_para(C=10.0, gamma=0.1), 0.9821255113012798: frogs_para(C=1.0, gamma=0.1), 0.9714033866558991: frogs_para(C=1.0, gamma=0.2), 0.964047363402605: frogs_para(C=1.0, gamma=0.30000000000000004), 0.9457831673153378: frogs_para(C=1.0, gamma=0.4), 0.9273146040609438: frogs_para(C=1.0, gamma=0.5), 0.9102247400284448: frogs_para(C=1.0, gamma=0.6), 0.8879924796221029: frogs_para(C=1.0, gamma=0.7000000000000001), 0.866348369004012: frogs_para(C=1.0, gamma=0.8), 0.8445126364174517: frogs_para(C=1.0, gamma=0.9), 0.823866620380406: frogs_para(C=1.0, gamma=1.0), 0.8043984248784785: frogs_para(C=1.0, gamma=1.1), 0.786533720172898: frogs_para(C=1.0, gamma=1.2000000000000002), 0.7658797055421713: frogs_para(C=1.0, gamma=1.3000000000000003), 0.7488122956737973: frogs_para(C=1.0, gamma=1.4000000000000001), 0.7315396984938053: frogs_para(C=1.0, gamma=1.5000000000000002), 0.7156588105849789: frogs_para(C=1.0, gamma=1.6), 0.7009704166070202: frogs_para(C=1.0, gamma=1.7000000000000002), 0.6874602574958693: frogs_para(C=1.0, gamma=1.8000000000000003), 0.6763402084886816: frogs_para(C=1.0, gamma=1.9000000000000001), 0.6672051579982355: frogs_para(C=1.0, gamma=2.0), 0.9588878050174875: frogs_para(C=0.1, gamma=0.1), 0.9261209500506137: frogs_para(C=0.1, gamma=0.2), 0.8768822501795416: frogs_para(C=0.1, gamma=0.30000000000000004), 0.8224768113769425: frogs_para(C=0.1, gamma=0.4), 0.7682725013543634: frogs_para(C=0.1, gamma=0.5), 0.7218137611456173: frogs_para(C=0.1, gamma=0.6), 0.680101968787373: frogs_para(C=0.1, gamma=0.7000000000000001), 0.6554851367685158: frogs_para(C=0.1, gamma=0.8), 0.6411817373361002: frogs_para(C=0.1, gamma=0.9), 0.6274845540156044: frogs_para(C=0.1, gamma=1.0), 0.6147708618220489: frogs_para(C=0.1, gamma=1.1), 0.6058357706277603: frogs_para(C=0.1, gamma=1.2000000000000002), 0.6018626844425998: frogs_para(C=0.1, gamma=1.3000000000000003), 0.5980813048421194: frogs_para(C=0.1, gamma=1.4000000000000001), 0.595107398390949: frogs_para(C=0.1, gamma=1.5000000000000002), 0.5925240196769559: frogs_para(C=0.1, gamma=1.6), 0.5901418025131275: frogs_para(C=0.1, gamma=1.7000000000000002), 0.5877604087493681: frogs_para(C=0.1, gamma=1.8000000000000003), 0.5851794359940794: frogs_para(C=0.1, gamma=1.9000000000000001), 0.5831956565255392: frogs_para(C=0.1, gamma=2.0), 0.8115649575457752: frogs_para(C=0.01, gamma=0.1), 0.6574767979982934: frogs_para(C=0.01, gamma=0.2), 0.6078388481814969: frogs_para(C=0.01, gamma=0.30000000000000004), 0.6006788409848692: frogs_para(C=0.01, gamma=0.4), 0.5927291276088245: frogs_para(C=0.01, gamma=0.5), 0.5802110571355553: frogs_para(C=0.01, gamma=0.6), 0.5577847918276685: frogs_para(C=0.01, gamma=0.7000000000000001), 0.5327657371061264: frogs_para(C=0.01, gamma=0.8), 0.5137034630871418: frogs_para(C=0.01, gamma=0.9), 0.5000027933590501: frogs_para(C=0.01, gamma=1.0), 0.4912822792165037: frogs_para(C=0.01, gamma=1.1), 0.4867076057675483: frogs_para(C=0.01, gamma=1.2000000000000002), 0.486108004969145: frogs_para(C=0.01, gamma=1.3000000000000003), 0.4859095922707324: frogs_para(C=0.001, gamma=2.0)}\n"
     ]
    }
   ],
   "source": [
    "# for label \"Species\"\n",
    "\n",
    "frogs_cv_G_s_dict= {}\n",
    "frogs_para = namedtuple(\"frogs_para\", [\"C\", \"gamma\"])\n",
    "for c in (1e3, 1e2, 1e1, 1e0, 1e-1, 1e-2, 1e-3):\n",
    "    for gm in np.arange(0.1, 2.1, 0.1):\n",
    "        clf_G_s = svm.SVC(kernel='rbf', C = c, gamma = gm)\n",
    "        # 10 folds cross validation on each paired parameters\n",
    "        clf_G_s_cv_scores = cross_val_score(clf_G_s, frogs_X_train, frogs_y_s_train, cv = 10)\n",
    "        clf_G_s_cv = sum(clf_G_s_cv_scores)/10\n",
    "        # add cv scores to the dictionary\n",
    "        frogs_cv_G_s_dict[clf_G_s_cv] = frogs_para(C = c, gamma = gm)\n",
    "print(frogs_cv_G_s_dict)"
   ]
  },
  {
   "cell_type": "code",
   "execution_count": 184,
   "metadata": {
    "ExecuteTime": {
     "end_time": "2019-03-28T04:48:20.220480Z",
     "start_time": "2019-03-28T04:48:20.216778Z"
    }
   },
   "outputs": [
    {
     "name": "stdout",
     "output_type": "stream",
     "text": [
      "The highest cross-validation score and its parameters for \"Species\" is (0.9847041219353935, frogs_para(C=10.0, gamma=0.1))\n"
     ]
    }
   ],
   "source": [
    "# determine the parameters\n",
    "frogs_para_G_s = max(zip(frogs_cv_G_s_dict.keys(), frogs_cv_G_s_dict.values()))\n",
    "print('The highest cross-validation score and its parameters for \"Species\" is', frogs_para_G_s)\n"
   ]
  },
  {
   "cell_type": "code",
   "execution_count": 185,
   "metadata": {
    "ExecuteTime": {
     "end_time": "2019-03-28T04:48:23.029019Z",
     "start_time": "2019-03-28T04:48:20.222917Z"
    }
   },
   "outputs": [],
   "source": [
    "# apply the classifiers to all 3 labels on test set\n",
    "\n",
    "clf_G_f.fit(frogs_X_train, frogs_y_f_train)\n",
    "frogs_y_f_test_G_pred = pd.DataFrame(data = clf_G_f.predict(frogs_X_test), columns = [frogs_columns[-3]], index=None)\n",
    "\n",
    "clf_G_g.fit(frogs_X_train, frogs_y_g_train)\n",
    "frogs_y_g_test_G_pred = pd.DataFrame(data = clf_G_g.predict(frogs_X_test), columns = [frogs_columns[-2]], index=None)\n",
    "\n",
    "clf_G_s.fit(frogs_X_train, frogs_y_s_train)\n",
    "frogs_y_s_test_G_pred = pd.DataFrame(data = clf_G_s.predict(frogs_X_test), columns = [frogs_columns[-1]], index=None)\n"
   ]
  },
  {
   "cell_type": "code",
   "execution_count": 186,
   "metadata": {
    "ExecuteTime": {
     "end_time": "2019-03-28T04:48:23.047875Z",
     "start_time": "2019-03-28T04:48:23.030882Z"
    }
   },
   "outputs": [
    {
     "data": {
      "text/html": [
       "<div>\n",
       "<style scoped>\n",
       "    .dataframe tbody tr th:only-of-type {\n",
       "        vertical-align: middle;\n",
       "    }\n",
       "\n",
       "    .dataframe tbody tr th {\n",
       "        vertical-align: top;\n",
       "    }\n",
       "\n",
       "    .dataframe thead th {\n",
       "        text-align: right;\n",
       "    }\n",
       "</style>\n",
       "<table border=\"1\" class=\"dataframe\">\n",
       "  <thead>\n",
       "    <tr style=\"text-align: right;\">\n",
       "      <th></th>\n",
       "      <th>Family</th>\n",
       "      <th>Genus</th>\n",
       "      <th>Species</th>\n",
       "    </tr>\n",
       "  </thead>\n",
       "  <tbody>\n",
       "    <tr>\n",
       "      <th>0</th>\n",
       "      <td>Leptodactylidae</td>\n",
       "      <td>Adenomera</td>\n",
       "      <td>AdenomeraHylaedactylus</td>\n",
       "    </tr>\n",
       "    <tr>\n",
       "      <th>1</th>\n",
       "      <td>Leptodactylidae</td>\n",
       "      <td>Adenomera</td>\n",
       "      <td>AdenomeraHylaedactylus</td>\n",
       "    </tr>\n",
       "    <tr>\n",
       "      <th>2</th>\n",
       "      <td>Leptodactylidae</td>\n",
       "      <td>Adenomera</td>\n",
       "      <td>AdenomeraHylaedactylus</td>\n",
       "    </tr>\n",
       "    <tr>\n",
       "      <th>3</th>\n",
       "      <td>Leptodactylidae</td>\n",
       "      <td>Adenomera</td>\n",
       "      <td>AdenomeraHylaedactylus</td>\n",
       "    </tr>\n",
       "    <tr>\n",
       "      <th>4</th>\n",
       "      <td>Leptodactylidae</td>\n",
       "      <td>Adenomera</td>\n",
       "      <td>AdenomeraHylaedactylus</td>\n",
       "    </tr>\n",
       "    <tr>\n",
       "      <th>5</th>\n",
       "      <td>Leptodactylidae</td>\n",
       "      <td>Adenomera</td>\n",
       "      <td>AdenomeraHylaedactylus</td>\n",
       "    </tr>\n",
       "    <tr>\n",
       "      <th>6</th>\n",
       "      <td>Leptodactylidae</td>\n",
       "      <td>Adenomera</td>\n",
       "      <td>AdenomeraHylaedactylus</td>\n",
       "    </tr>\n",
       "    <tr>\n",
       "      <th>7</th>\n",
       "      <td>Leptodactylidae</td>\n",
       "      <td>Adenomera</td>\n",
       "      <td>AdenomeraHylaedactylus</td>\n",
       "    </tr>\n",
       "    <tr>\n",
       "      <th>8</th>\n",
       "      <td>Leptodactylidae</td>\n",
       "      <td>Adenomera</td>\n",
       "      <td>AdenomeraHylaedactylus</td>\n",
       "    </tr>\n",
       "    <tr>\n",
       "      <th>9</th>\n",
       "      <td>Leptodactylidae</td>\n",
       "      <td>Adenomera</td>\n",
       "      <td>AdenomeraHylaedactylus</td>\n",
       "    </tr>\n",
       "    <tr>\n",
       "      <th>10</th>\n",
       "      <td>Leptodactylidae</td>\n",
       "      <td>Adenomera</td>\n",
       "      <td>AdenomeraHylaedactylus</td>\n",
       "    </tr>\n",
       "    <tr>\n",
       "      <th>11</th>\n",
       "      <td>Leptodactylidae</td>\n",
       "      <td>Adenomera</td>\n",
       "      <td>AdenomeraHylaedactylus</td>\n",
       "    </tr>\n",
       "    <tr>\n",
       "      <th>12</th>\n",
       "      <td>Leptodactylidae</td>\n",
       "      <td>Adenomera</td>\n",
       "      <td>AdenomeraHylaedactylus</td>\n",
       "    </tr>\n",
       "    <tr>\n",
       "      <th>13</th>\n",
       "      <td>Leptodactylidae</td>\n",
       "      <td>Adenomera</td>\n",
       "      <td>AdenomeraHylaedactylus</td>\n",
       "    </tr>\n",
       "    <tr>\n",
       "      <th>14</th>\n",
       "      <td>Leptodactylidae</td>\n",
       "      <td>Adenomera</td>\n",
       "      <td>AdenomeraHylaedactylus</td>\n",
       "    </tr>\n",
       "    <tr>\n",
       "      <th>15</th>\n",
       "      <td>Leptodactylidae</td>\n",
       "      <td>Adenomera</td>\n",
       "      <td>AdenomeraHylaedactylus</td>\n",
       "    </tr>\n",
       "    <tr>\n",
       "      <th>16</th>\n",
       "      <td>Leptodactylidae</td>\n",
       "      <td>Adenomera</td>\n",
       "      <td>AdenomeraHylaedactylus</td>\n",
       "    </tr>\n",
       "    <tr>\n",
       "      <th>17</th>\n",
       "      <td>Leptodactylidae</td>\n",
       "      <td>Adenomera</td>\n",
       "      <td>AdenomeraHylaedactylus</td>\n",
       "    </tr>\n",
       "    <tr>\n",
       "      <th>18</th>\n",
       "      <td>Leptodactylidae</td>\n",
       "      <td>Adenomera</td>\n",
       "      <td>AdenomeraHylaedactylus</td>\n",
       "    </tr>\n",
       "    <tr>\n",
       "      <th>19</th>\n",
       "      <td>Leptodactylidae</td>\n",
       "      <td>Adenomera</td>\n",
       "      <td>AdenomeraHylaedactylus</td>\n",
       "    </tr>\n",
       "    <tr>\n",
       "      <th>20</th>\n",
       "      <td>Leptodactylidae</td>\n",
       "      <td>Adenomera</td>\n",
       "      <td>AdenomeraHylaedactylus</td>\n",
       "    </tr>\n",
       "    <tr>\n",
       "      <th>21</th>\n",
       "      <td>Leptodactylidae</td>\n",
       "      <td>Adenomera</td>\n",
       "      <td>AdenomeraHylaedactylus</td>\n",
       "    </tr>\n",
       "    <tr>\n",
       "      <th>22</th>\n",
       "      <td>Leptodactylidae</td>\n",
       "      <td>Adenomera</td>\n",
       "      <td>AdenomeraHylaedactylus</td>\n",
       "    </tr>\n",
       "    <tr>\n",
       "      <th>23</th>\n",
       "      <td>Leptodactylidae</td>\n",
       "      <td>Adenomera</td>\n",
       "      <td>AdenomeraHylaedactylus</td>\n",
       "    </tr>\n",
       "    <tr>\n",
       "      <th>24</th>\n",
       "      <td>Leptodactylidae</td>\n",
       "      <td>Adenomera</td>\n",
       "      <td>AdenomeraHylaedactylus</td>\n",
       "    </tr>\n",
       "    <tr>\n",
       "      <th>25</th>\n",
       "      <td>Leptodactylidae</td>\n",
       "      <td>Adenomera</td>\n",
       "      <td>AdenomeraHylaedactylus</td>\n",
       "    </tr>\n",
       "    <tr>\n",
       "      <th>26</th>\n",
       "      <td>Leptodactylidae</td>\n",
       "      <td>Adenomera</td>\n",
       "      <td>AdenomeraHylaedactylus</td>\n",
       "    </tr>\n",
       "    <tr>\n",
       "      <th>27</th>\n",
       "      <td>Leptodactylidae</td>\n",
       "      <td>Adenomera</td>\n",
       "      <td>AdenomeraHylaedactylus</td>\n",
       "    </tr>\n",
       "    <tr>\n",
       "      <th>28</th>\n",
       "      <td>Leptodactylidae</td>\n",
       "      <td>Adenomera</td>\n",
       "      <td>AdenomeraHylaedactylus</td>\n",
       "    </tr>\n",
       "    <tr>\n",
       "      <th>29</th>\n",
       "      <td>Leptodactylidae</td>\n",
       "      <td>Adenomera</td>\n",
       "      <td>AdenomeraHylaedactylus</td>\n",
       "    </tr>\n",
       "    <tr>\n",
       "      <th>...</th>\n",
       "      <td>...</td>\n",
       "      <td>...</td>\n",
       "      <td>...</td>\n",
       "    </tr>\n",
       "    <tr>\n",
       "      <th>2129</th>\n",
       "      <td>Leptodactylidae</td>\n",
       "      <td>Adenomera</td>\n",
       "      <td>AdenomeraHylaedactylus</td>\n",
       "    </tr>\n",
       "    <tr>\n",
       "      <th>2130</th>\n",
       "      <td>Leptodactylidae</td>\n",
       "      <td>Adenomera</td>\n",
       "      <td>AdenomeraHylaedactylus</td>\n",
       "    </tr>\n",
       "    <tr>\n",
       "      <th>2131</th>\n",
       "      <td>Leptodactylidae</td>\n",
       "      <td>Adenomera</td>\n",
       "      <td>AdenomeraHylaedactylus</td>\n",
       "    </tr>\n",
       "    <tr>\n",
       "      <th>2132</th>\n",
       "      <td>Leptodactylidae</td>\n",
       "      <td>Adenomera</td>\n",
       "      <td>AdenomeraHylaedactylus</td>\n",
       "    </tr>\n",
       "    <tr>\n",
       "      <th>2133</th>\n",
       "      <td>Leptodactylidae</td>\n",
       "      <td>Adenomera</td>\n",
       "      <td>AdenomeraHylaedactylus</td>\n",
       "    </tr>\n",
       "    <tr>\n",
       "      <th>2134</th>\n",
       "      <td>Leptodactylidae</td>\n",
       "      <td>Adenomera</td>\n",
       "      <td>AdenomeraHylaedactylus</td>\n",
       "    </tr>\n",
       "    <tr>\n",
       "      <th>2135</th>\n",
       "      <td>Leptodactylidae</td>\n",
       "      <td>Adenomera</td>\n",
       "      <td>AdenomeraHylaedactylus</td>\n",
       "    </tr>\n",
       "    <tr>\n",
       "      <th>2136</th>\n",
       "      <td>Leptodactylidae</td>\n",
       "      <td>Adenomera</td>\n",
       "      <td>AdenomeraHylaedactylus</td>\n",
       "    </tr>\n",
       "    <tr>\n",
       "      <th>2137</th>\n",
       "      <td>Leptodactylidae</td>\n",
       "      <td>Adenomera</td>\n",
       "      <td>AdenomeraHylaedactylus</td>\n",
       "    </tr>\n",
       "    <tr>\n",
       "      <th>2138</th>\n",
       "      <td>Leptodactylidae</td>\n",
       "      <td>Adenomera</td>\n",
       "      <td>AdenomeraHylaedactylus</td>\n",
       "    </tr>\n",
       "    <tr>\n",
       "      <th>2139</th>\n",
       "      <td>Leptodactylidae</td>\n",
       "      <td>Adenomera</td>\n",
       "      <td>AdenomeraHylaedactylus</td>\n",
       "    </tr>\n",
       "    <tr>\n",
       "      <th>2140</th>\n",
       "      <td>Leptodactylidae</td>\n",
       "      <td>Adenomera</td>\n",
       "      <td>AdenomeraHylaedactylus</td>\n",
       "    </tr>\n",
       "    <tr>\n",
       "      <th>2141</th>\n",
       "      <td>Leptodactylidae</td>\n",
       "      <td>Adenomera</td>\n",
       "      <td>AdenomeraHylaedactylus</td>\n",
       "    </tr>\n",
       "    <tr>\n",
       "      <th>2142</th>\n",
       "      <td>Leptodactylidae</td>\n",
       "      <td>Adenomera</td>\n",
       "      <td>AdenomeraHylaedactylus</td>\n",
       "    </tr>\n",
       "    <tr>\n",
       "      <th>2143</th>\n",
       "      <td>Leptodactylidae</td>\n",
       "      <td>Adenomera</td>\n",
       "      <td>AdenomeraHylaedactylus</td>\n",
       "    </tr>\n",
       "    <tr>\n",
       "      <th>2144</th>\n",
       "      <td>Leptodactylidae</td>\n",
       "      <td>Adenomera</td>\n",
       "      <td>AdenomeraHylaedactylus</td>\n",
       "    </tr>\n",
       "    <tr>\n",
       "      <th>2145</th>\n",
       "      <td>Leptodactylidae</td>\n",
       "      <td>Adenomera</td>\n",
       "      <td>AdenomeraHylaedactylus</td>\n",
       "    </tr>\n",
       "    <tr>\n",
       "      <th>2146</th>\n",
       "      <td>Leptodactylidae</td>\n",
       "      <td>Adenomera</td>\n",
       "      <td>AdenomeraHylaedactylus</td>\n",
       "    </tr>\n",
       "    <tr>\n",
       "      <th>2147</th>\n",
       "      <td>Leptodactylidae</td>\n",
       "      <td>Adenomera</td>\n",
       "      <td>AdenomeraHylaedactylus</td>\n",
       "    </tr>\n",
       "    <tr>\n",
       "      <th>2148</th>\n",
       "      <td>Leptodactylidae</td>\n",
       "      <td>Adenomera</td>\n",
       "      <td>AdenomeraHylaedactylus</td>\n",
       "    </tr>\n",
       "    <tr>\n",
       "      <th>2149</th>\n",
       "      <td>Leptodactylidae</td>\n",
       "      <td>Adenomera</td>\n",
       "      <td>AdenomeraHylaedactylus</td>\n",
       "    </tr>\n",
       "    <tr>\n",
       "      <th>2150</th>\n",
       "      <td>Leptodactylidae</td>\n",
       "      <td>Adenomera</td>\n",
       "      <td>AdenomeraHylaedactylus</td>\n",
       "    </tr>\n",
       "    <tr>\n",
       "      <th>2151</th>\n",
       "      <td>Leptodactylidae</td>\n",
       "      <td>Adenomera</td>\n",
       "      <td>AdenomeraHylaedactylus</td>\n",
       "    </tr>\n",
       "    <tr>\n",
       "      <th>2152</th>\n",
       "      <td>Leptodactylidae</td>\n",
       "      <td>Adenomera</td>\n",
       "      <td>AdenomeraHylaedactylus</td>\n",
       "    </tr>\n",
       "    <tr>\n",
       "      <th>2153</th>\n",
       "      <td>Leptodactylidae</td>\n",
       "      <td>Adenomera</td>\n",
       "      <td>AdenomeraHylaedactylus</td>\n",
       "    </tr>\n",
       "    <tr>\n",
       "      <th>2154</th>\n",
       "      <td>Leptodactylidae</td>\n",
       "      <td>Adenomera</td>\n",
       "      <td>AdenomeraHylaedactylus</td>\n",
       "    </tr>\n",
       "    <tr>\n",
       "      <th>2155</th>\n",
       "      <td>Leptodactylidae</td>\n",
       "      <td>Adenomera</td>\n",
       "      <td>AdenomeraHylaedactylus</td>\n",
       "    </tr>\n",
       "    <tr>\n",
       "      <th>2156</th>\n",
       "      <td>Leptodactylidae</td>\n",
       "      <td>Adenomera</td>\n",
       "      <td>AdenomeraHylaedactylus</td>\n",
       "    </tr>\n",
       "    <tr>\n",
       "      <th>2157</th>\n",
       "      <td>Leptodactylidae</td>\n",
       "      <td>Adenomera</td>\n",
       "      <td>AdenomeraHylaedactylus</td>\n",
       "    </tr>\n",
       "    <tr>\n",
       "      <th>2158</th>\n",
       "      <td>Leptodactylidae</td>\n",
       "      <td>Adenomera</td>\n",
       "      <td>AdenomeraHylaedactylus</td>\n",
       "    </tr>\n",
       "  </tbody>\n",
       "</table>\n",
       "<p>2159 rows × 3 columns</p>\n",
       "</div>"
      ],
      "text/plain": [
       "               Family      Genus                 Species\n",
       "0     Leptodactylidae  Adenomera  AdenomeraHylaedactylus\n",
       "1     Leptodactylidae  Adenomera  AdenomeraHylaedactylus\n",
       "2     Leptodactylidae  Adenomera  AdenomeraHylaedactylus\n",
       "3     Leptodactylidae  Adenomera  AdenomeraHylaedactylus\n",
       "4     Leptodactylidae  Adenomera  AdenomeraHylaedactylus\n",
       "5     Leptodactylidae  Adenomera  AdenomeraHylaedactylus\n",
       "6     Leptodactylidae  Adenomera  AdenomeraHylaedactylus\n",
       "7     Leptodactylidae  Adenomera  AdenomeraHylaedactylus\n",
       "8     Leptodactylidae  Adenomera  AdenomeraHylaedactylus\n",
       "9     Leptodactylidae  Adenomera  AdenomeraHylaedactylus\n",
       "10    Leptodactylidae  Adenomera  AdenomeraHylaedactylus\n",
       "11    Leptodactylidae  Adenomera  AdenomeraHylaedactylus\n",
       "12    Leptodactylidae  Adenomera  AdenomeraHylaedactylus\n",
       "13    Leptodactylidae  Adenomera  AdenomeraHylaedactylus\n",
       "14    Leptodactylidae  Adenomera  AdenomeraHylaedactylus\n",
       "15    Leptodactylidae  Adenomera  AdenomeraHylaedactylus\n",
       "16    Leptodactylidae  Adenomera  AdenomeraHylaedactylus\n",
       "17    Leptodactylidae  Adenomera  AdenomeraHylaedactylus\n",
       "18    Leptodactylidae  Adenomera  AdenomeraHylaedactylus\n",
       "19    Leptodactylidae  Adenomera  AdenomeraHylaedactylus\n",
       "20    Leptodactylidae  Adenomera  AdenomeraHylaedactylus\n",
       "21    Leptodactylidae  Adenomera  AdenomeraHylaedactylus\n",
       "22    Leptodactylidae  Adenomera  AdenomeraHylaedactylus\n",
       "23    Leptodactylidae  Adenomera  AdenomeraHylaedactylus\n",
       "24    Leptodactylidae  Adenomera  AdenomeraHylaedactylus\n",
       "25    Leptodactylidae  Adenomera  AdenomeraHylaedactylus\n",
       "26    Leptodactylidae  Adenomera  AdenomeraHylaedactylus\n",
       "27    Leptodactylidae  Adenomera  AdenomeraHylaedactylus\n",
       "28    Leptodactylidae  Adenomera  AdenomeraHylaedactylus\n",
       "29    Leptodactylidae  Adenomera  AdenomeraHylaedactylus\n",
       "...               ...        ...                     ...\n",
       "2129  Leptodactylidae  Adenomera  AdenomeraHylaedactylus\n",
       "2130  Leptodactylidae  Adenomera  AdenomeraHylaedactylus\n",
       "2131  Leptodactylidae  Adenomera  AdenomeraHylaedactylus\n",
       "2132  Leptodactylidae  Adenomera  AdenomeraHylaedactylus\n",
       "2133  Leptodactylidae  Adenomera  AdenomeraHylaedactylus\n",
       "2134  Leptodactylidae  Adenomera  AdenomeraHylaedactylus\n",
       "2135  Leptodactylidae  Adenomera  AdenomeraHylaedactylus\n",
       "2136  Leptodactylidae  Adenomera  AdenomeraHylaedactylus\n",
       "2137  Leptodactylidae  Adenomera  AdenomeraHylaedactylus\n",
       "2138  Leptodactylidae  Adenomera  AdenomeraHylaedactylus\n",
       "2139  Leptodactylidae  Adenomera  AdenomeraHylaedactylus\n",
       "2140  Leptodactylidae  Adenomera  AdenomeraHylaedactylus\n",
       "2141  Leptodactylidae  Adenomera  AdenomeraHylaedactylus\n",
       "2142  Leptodactylidae  Adenomera  AdenomeraHylaedactylus\n",
       "2143  Leptodactylidae  Adenomera  AdenomeraHylaedactylus\n",
       "2144  Leptodactylidae  Adenomera  AdenomeraHylaedactylus\n",
       "2145  Leptodactylidae  Adenomera  AdenomeraHylaedactylus\n",
       "2146  Leptodactylidae  Adenomera  AdenomeraHylaedactylus\n",
       "2147  Leptodactylidae  Adenomera  AdenomeraHylaedactylus\n",
       "2148  Leptodactylidae  Adenomera  AdenomeraHylaedactylus\n",
       "2149  Leptodactylidae  Adenomera  AdenomeraHylaedactylus\n",
       "2150  Leptodactylidae  Adenomera  AdenomeraHylaedactylus\n",
       "2151  Leptodactylidae  Adenomera  AdenomeraHylaedactylus\n",
       "2152  Leptodactylidae  Adenomera  AdenomeraHylaedactylus\n",
       "2153  Leptodactylidae  Adenomera  AdenomeraHylaedactylus\n",
       "2154  Leptodactylidae  Adenomera  AdenomeraHylaedactylus\n",
       "2155  Leptodactylidae  Adenomera  AdenomeraHylaedactylus\n",
       "2156  Leptodactylidae  Adenomera  AdenomeraHylaedactylus\n",
       "2157  Leptodactylidae  Adenomera  AdenomeraHylaedactylus\n",
       "2158  Leptodactylidae  Adenomera  AdenomeraHylaedactylus\n",
       "\n",
       "[2159 rows x 3 columns]"
      ]
     },
     "execution_count": 186,
     "metadata": {},
     "output_type": "execute_result"
    }
   ],
   "source": [
    "frogs_y_test_G_pred = frogs_y_f_test_G_pred.merge(frogs_y_g_test_G_pred, how = 'inner',left_index=True, right_index=True).merge(frogs_y_s_test_G_pred, how = 'inner',left_index=True, right_index=True)\n",
    "frogs_y_test_G_pred"
   ]
  },
  {
   "cell_type": "code",
   "execution_count": 189,
   "metadata": {
    "ExecuteTime": {
     "end_time": "2019-03-28T05:08:01.157155Z",
     "start_time": "2019-03-28T05:08:01.142834Z"
    }
   },
   "outputs": [
    {
     "name": "stdout",
     "output_type": "stream",
     "text": [
      "The exact match of test data is 0.6238999536822603\n"
     ]
    }
   ],
   "source": [
    "# exact match\n",
    "\n",
    "def em_accuracy_score(y_true, y_pred):\n",
    "    matched = 0\n",
    "    for y_p, y_t in zip(y_pred, y_true):\n",
    "        if y_t in y_p:\n",
    "            matched = matched + 1\n",
    "    return (matched / len(y_true))\n",
    "\n",
    "\n",
    "print(\"The exact match of test data is\",\n",
    "      em_accuracy_score(frogs_y_test.values, frogs_y_test_G_pred.values))"
   ]
  },
  {
   "cell_type": "code",
   "execution_count": 190,
   "metadata": {
    "ExecuteTime": {
     "end_time": "2019-03-28T05:08:01.756316Z",
     "start_time": "2019-03-28T05:08:01.732928Z"
    }
   },
   "outputs": [
    {
     "name": "stdout",
     "output_type": "stream",
     "text": [
      "The hamming loss of test data is 0.43970974216458236\n"
     ]
    }
   ],
   "source": [
    "# hamming loss\n",
    "\n",
    "frogs_G_f_hl = hamming_loss(frogs_y_f_test, frogs_y_f_test_G_pred)\n",
    "frogs_G_g_hl = hamming_loss(frogs_y_g_test, frogs_y_g_test_G_pred)\n",
    "frogs_G_s_hl = hamming_loss(frogs_y_s_test, frogs_y_s_test_G_pred)\n",
    "\n",
    "frogs_G_hl = (frogs_G_f_hl + frogs_G_g_hl + frogs_G_s_hl)/3\n",
    "\n",
    "print(\"The hamming loss of test data is\", frogs_G_hl)"
   ]
  },
  {
   "cell_type": "markdown",
   "metadata": {},
   "source": [
    "### (iii) Train a SVM model with L1-penalized kernels(L1 penalty with linear kernels) and one versus all classifiers determined by 10 folds cross validation"
   ]
  },
  {
   "cell_type": "code",
   "execution_count": 191,
   "metadata": {
    "ExecuteTime": {
     "end_time": "2019-03-28T05:09:56.366059Z",
     "start_time": "2019-03-28T05:08:19.996569Z"
    }
   },
   "outputs": [
    {
     "name": "stdout",
     "output_type": "stream",
     "text": [
      "{0.940632187068774: frogs_para_L(C=0.001)}\n"
     ]
    }
   ],
   "source": [
    "# for label\"Family\"\n",
    "\n",
    "frogs_cv_L_f_dict= {}\n",
    "frogs_para_L = namedtuple(\"frogs_para_L\", [\"C\"])\n",
    "for c in (1e3, 1e2, 1e1, 1e0, 1e-1, 1e-2, 1e-3):\n",
    "    clf_L_f = LinearSVC(penalty = 'l1', loss='squared_hinge', dual=False) \n",
    "    # 10 folds cross validation on each paired parameters\n",
    "    clf_L_f_cv_scores = cross_val_score(clf_L_f, frogs_X_train, frogs_y_f_train, cv = 10)\n",
    "    clf_L_f_cv = sum(clf_L_f_cv_scores)/10\n",
    "    # add cv scores to the dictionary\n",
    "    frogs_cv_L_f_dict[clf_L_f_cv] = frogs_para_L(C = c)\n",
    "print(frogs_cv_L_f_dict)"
   ]
  },
  {
   "cell_type": "code",
   "execution_count": 192,
   "metadata": {
    "ExecuteTime": {
     "end_time": "2019-03-28T05:09:56.372738Z",
     "start_time": "2019-03-28T05:09:56.368775Z"
    }
   },
   "outputs": [
    {
     "name": "stdout",
     "output_type": "stream",
     "text": [
      "The highest cross-validation score and its parameters for \"Family\" is (0.940632187068774, frogs_para_L(C=0.001))\n"
     ]
    }
   ],
   "source": [
    "# determine the parameters\n",
    "frogs_para_L_f = max(zip(frogs_cv_L_f_dict.keys(), frogs_cv_L_f_dict.values()))\n",
    "print('The highest cross-validation score and its parameters for \"Family\" is', frogs_para_L_f)\n"
   ]
  },
  {
   "cell_type": "code",
   "execution_count": 193,
   "metadata": {
    "ExecuteTime": {
     "end_time": "2019-03-28T05:12:08.769545Z",
     "start_time": "2019-03-28T05:09:56.375141Z"
    }
   },
   "outputs": [
    {
     "name": "stdout",
     "output_type": "stream",
     "text": [
      "{0.9513547876190283: frogs_para_L(C=0.01), 0.9511551868206249: frogs_para_L(C=0.001), 0.9513543900078758: frogs_para_L(C=0.1)}\n"
     ]
    }
   ],
   "source": [
    "# for label\"Genus\"\n",
    "\n",
    "frogs_cv_L_g_dict= {}\n",
    "frogs_para_L = namedtuple(\"frogs_para_L\", [\"C\"])\n",
    "for c in (1e3, 1e2, 1e1, 1e0, 1e-1, 1e-2, 1e-3):\n",
    "    clf_L_g = LinearSVC(penalty = 'l1', loss='squared_hinge', dual=False)\n",
    "    # 10 folds cross validation on each paired parameters\n",
    "    clf_L_g_cv_scores = cross_val_score(clf_L_g, frogs_X_train, frogs_y_g_train, cv = 10)\n",
    "    clf_L_g_cv = sum(clf_L_g_cv_scores)/10\n",
    "    # add cv scores to the dictionary\n",
    "    frogs_cv_L_g_dict[clf_L_g_cv] = frogs_para_L(C = c)\n",
    "print(frogs_cv_L_g_dict)"
   ]
  },
  {
   "cell_type": "code",
   "execution_count": 194,
   "metadata": {
    "ExecuteTime": {
     "end_time": "2019-03-28T05:12:08.777105Z",
     "start_time": "2019-03-28T05:12:08.772478Z"
    }
   },
   "outputs": [
    {
     "name": "stdout",
     "output_type": "stream",
     "text": [
      "The highest cross-validation score and its parameters for \"Genus\" is (0.9513547876190283, frogs_para_L(C=0.01))\n"
     ]
    }
   ],
   "source": [
    "# determine the parameters\n",
    "frogs_para_L_g = max(zip(frogs_cv_L_g_dict.keys(), frogs_cv_L_g_dict.values()))\n",
    "print('The highest cross-validation score and its parameters for \"Genus\" is', frogs_para_L_g)\n"
   ]
  },
  {
   "cell_type": "code",
   "execution_count": 195,
   "metadata": {
    "ExecuteTime": {
     "end_time": "2019-03-28T05:14:22.852344Z",
     "start_time": "2019-03-28T05:12:08.779458Z"
    }
   },
   "outputs": [
    {
     "name": "stdout",
     "output_type": "stream",
     "text": [
      "{0.9600837758137208: frogs_para_L(C=1000.0), 0.9604837758137206: frogs_para_L(C=10.0), 0.9604837758137208: frogs_para_L(C=1.0), 0.9600837758137206: frogs_para_L(C=0.1), 0.9602837758137207: frogs_para_L(C=0.01), 0.9598861473552228: frogs_para_L(C=0.001)}\n"
     ]
    }
   ],
   "source": [
    "# for label\"Species\"\n",
    "\n",
    "frogs_cv_L_s_dict= {}\n",
    "frogs_para_L = namedtuple(\"frogs_para_L\", [\"C\"])\n",
    "for c in (1e3, 1e2, 1e1, 1e0, 1e-1, 1e-2, 1e-3):\n",
    "    clf_L_s = LinearSVC(penalty = 'l1', loss='squared_hinge', dual=False) \n",
    "    # 10 folds cross validation on each paired parameters\n",
    "    clf_L_s_cv_scores = cross_val_score(clf_L_s, frogs_X_train, frogs_y_s_train, cv = 10)\n",
    "    clf_L_s_cv = sum(clf_L_s_cv_scores)/10\n",
    "    # add cv scores to the dictionary\n",
    "    frogs_cv_L_s_dict[clf_L_s_cv] = frogs_para_L(C = c)\n",
    "print(frogs_cv_L_s_dict)"
   ]
  },
  {
   "cell_type": "code",
   "execution_count": 196,
   "metadata": {
    "ExecuteTime": {
     "end_time": "2019-03-28T05:14:22.860332Z",
     "start_time": "2019-03-28T05:14:22.854394Z"
    }
   },
   "outputs": [
    {
     "name": "stdout",
     "output_type": "stream",
     "text": [
      "The highest cross-validation score and its parameters for \"Species\" is (0.9604837758137208, frogs_para_L(C=1.0))\n"
     ]
    }
   ],
   "source": [
    "# determine the parameters\n",
    "frogs_para_L_s = max(zip(frogs_cv_L_s_dict.keys(), frogs_cv_L_s_dict.values()))\n",
    "print('The highest cross-validation score and its parameters for \"Species\" is', frogs_para_L_s)\n"
   ]
  },
  {
   "cell_type": "code",
   "execution_count": 197,
   "metadata": {
    "ExecuteTime": {
     "end_time": "2019-03-28T05:14:28.944187Z",
     "start_time": "2019-03-28T05:14:22.861962Z"
    }
   },
   "outputs": [
    {
     "data": {
      "text/html": [
       "<div>\n",
       "<style scoped>\n",
       "    .dataframe tbody tr th:only-of-type {\n",
       "        vertical-align: middle;\n",
       "    }\n",
       "\n",
       "    .dataframe tbody tr th {\n",
       "        vertical-align: top;\n",
       "    }\n",
       "\n",
       "    .dataframe thead th {\n",
       "        text-align: right;\n",
       "    }\n",
       "</style>\n",
       "<table border=\"1\" class=\"dataframe\">\n",
       "  <thead>\n",
       "    <tr style=\"text-align: right;\">\n",
       "      <th></th>\n",
       "      <th>Family</th>\n",
       "      <th>Genus</th>\n",
       "      <th>Species</th>\n",
       "    </tr>\n",
       "  </thead>\n",
       "  <tbody>\n",
       "    <tr>\n",
       "      <th>0</th>\n",
       "      <td>Leptodactylidae</td>\n",
       "      <td>Adenomera</td>\n",
       "      <td>AdenomeraHylaedactylus</td>\n",
       "    </tr>\n",
       "    <tr>\n",
       "      <th>1</th>\n",
       "      <td>Hylidae</td>\n",
       "      <td>Hypsiboas</td>\n",
       "      <td>HypsiboasCinerascens</td>\n",
       "    </tr>\n",
       "    <tr>\n",
       "      <th>2</th>\n",
       "      <td>Hylidae</td>\n",
       "      <td>Hypsiboas</td>\n",
       "      <td>HypsiboasCordobae</td>\n",
       "    </tr>\n",
       "    <tr>\n",
       "      <th>3</th>\n",
       "      <td>Leptodactylidae</td>\n",
       "      <td>Adenomera</td>\n",
       "      <td>AdenomeraHylaedactylus</td>\n",
       "    </tr>\n",
       "    <tr>\n",
       "      <th>4</th>\n",
       "      <td>Leptodactylidae</td>\n",
       "      <td>Adenomera</td>\n",
       "      <td>AdenomeraHylaedactylus</td>\n",
       "    </tr>\n",
       "    <tr>\n",
       "      <th>5</th>\n",
       "      <td>Leptodactylidae</td>\n",
       "      <td>Adenomera</td>\n",
       "      <td>AdenomeraHylaedactylus</td>\n",
       "    </tr>\n",
       "    <tr>\n",
       "      <th>6</th>\n",
       "      <td>Leptodactylidae</td>\n",
       "      <td>Adenomera</td>\n",
       "      <td>AdenomeraHylaedactylus</td>\n",
       "    </tr>\n",
       "    <tr>\n",
       "      <th>7</th>\n",
       "      <td>Leptodactylidae</td>\n",
       "      <td>Adenomera</td>\n",
       "      <td>AdenomeraAndre</td>\n",
       "    </tr>\n",
       "    <tr>\n",
       "      <th>8</th>\n",
       "      <td>Leptodactylidae</td>\n",
       "      <td>Adenomera</td>\n",
       "      <td>AdenomeraAndre</td>\n",
       "    </tr>\n",
       "    <tr>\n",
       "      <th>9</th>\n",
       "      <td>Hylidae</td>\n",
       "      <td>Hypsiboas</td>\n",
       "      <td>HypsiboasCinerascens</td>\n",
       "    </tr>\n",
       "    <tr>\n",
       "      <th>10</th>\n",
       "      <td>Leptodactylidae</td>\n",
       "      <td>Adenomera</td>\n",
       "      <td>AdenomeraHylaedactylus</td>\n",
       "    </tr>\n",
       "    <tr>\n",
       "      <th>11</th>\n",
       "      <td>Leptodactylidae</td>\n",
       "      <td>Adenomera</td>\n",
       "      <td>AdenomeraHylaedactylus</td>\n",
       "    </tr>\n",
       "    <tr>\n",
       "      <th>12</th>\n",
       "      <td>Leptodactylidae</td>\n",
       "      <td>Adenomera</td>\n",
       "      <td>AdenomeraAndre</td>\n",
       "    </tr>\n",
       "    <tr>\n",
       "      <th>13</th>\n",
       "      <td>Dendrobatidae</td>\n",
       "      <td>Ameerega</td>\n",
       "      <td>Ameeregatrivittata</td>\n",
       "    </tr>\n",
       "    <tr>\n",
       "      <th>14</th>\n",
       "      <td>Hylidae</td>\n",
       "      <td>Hypsiboas</td>\n",
       "      <td>HypsiboasCordobae</td>\n",
       "    </tr>\n",
       "    <tr>\n",
       "      <th>15</th>\n",
       "      <td>Leptodactylidae</td>\n",
       "      <td>Adenomera</td>\n",
       "      <td>AdenomeraAndre</td>\n",
       "    </tr>\n",
       "    <tr>\n",
       "      <th>16</th>\n",
       "      <td>Leptodactylidae</td>\n",
       "      <td>Adenomera</td>\n",
       "      <td>AdenomeraHylaedactylus</td>\n",
       "    </tr>\n",
       "    <tr>\n",
       "      <th>17</th>\n",
       "      <td>Leptodactylidae</td>\n",
       "      <td>Adenomera</td>\n",
       "      <td>AdenomeraHylaedactylus</td>\n",
       "    </tr>\n",
       "    <tr>\n",
       "      <th>18</th>\n",
       "      <td>Leptodactylidae</td>\n",
       "      <td>Adenomera</td>\n",
       "      <td>AdenomeraHylaedactylus</td>\n",
       "    </tr>\n",
       "    <tr>\n",
       "      <th>19</th>\n",
       "      <td>Leptodactylidae</td>\n",
       "      <td>Adenomera</td>\n",
       "      <td>AdenomeraHylaedactylus</td>\n",
       "    </tr>\n",
       "    <tr>\n",
       "      <th>20</th>\n",
       "      <td>Dendrobatidae</td>\n",
       "      <td>Ameerega</td>\n",
       "      <td>Ameeregatrivittata</td>\n",
       "    </tr>\n",
       "    <tr>\n",
       "      <th>21</th>\n",
       "      <td>Leptodactylidae</td>\n",
       "      <td>Adenomera</td>\n",
       "      <td>AdenomeraHylaedactylus</td>\n",
       "    </tr>\n",
       "    <tr>\n",
       "      <th>22</th>\n",
       "      <td>Leptodactylidae</td>\n",
       "      <td>Adenomera</td>\n",
       "      <td>AdenomeraHylaedactylus</td>\n",
       "    </tr>\n",
       "    <tr>\n",
       "      <th>23</th>\n",
       "      <td>Hylidae</td>\n",
       "      <td>Hypsiboas</td>\n",
       "      <td>HypsiboasCordobae</td>\n",
       "    </tr>\n",
       "    <tr>\n",
       "      <th>24</th>\n",
       "      <td>Leptodactylidae</td>\n",
       "      <td>Adenomera</td>\n",
       "      <td>AdenomeraHylaedactylus</td>\n",
       "    </tr>\n",
       "    <tr>\n",
       "      <th>25</th>\n",
       "      <td>Hylidae</td>\n",
       "      <td>Hypsiboas</td>\n",
       "      <td>HypsiboasCordobae</td>\n",
       "    </tr>\n",
       "    <tr>\n",
       "      <th>26</th>\n",
       "      <td>Hylidae</td>\n",
       "      <td>Dendropsophus</td>\n",
       "      <td>HylaMinuta</td>\n",
       "    </tr>\n",
       "    <tr>\n",
       "      <th>27</th>\n",
       "      <td>Hylidae</td>\n",
       "      <td>Hypsiboas</td>\n",
       "      <td>HypsiboasCordobae</td>\n",
       "    </tr>\n",
       "    <tr>\n",
       "      <th>28</th>\n",
       "      <td>Hylidae</td>\n",
       "      <td>Hypsiboas</td>\n",
       "      <td>HypsiboasCordobae</td>\n",
       "    </tr>\n",
       "    <tr>\n",
       "      <th>29</th>\n",
       "      <td>Leptodactylidae</td>\n",
       "      <td>Adenomera</td>\n",
       "      <td>AdenomeraHylaedactylus</td>\n",
       "    </tr>\n",
       "    <tr>\n",
       "      <th>...</th>\n",
       "      <td>...</td>\n",
       "      <td>...</td>\n",
       "      <td>...</td>\n",
       "    </tr>\n",
       "    <tr>\n",
       "      <th>2129</th>\n",
       "      <td>Hylidae</td>\n",
       "      <td>Hypsiboas</td>\n",
       "      <td>HypsiboasCordobae</td>\n",
       "    </tr>\n",
       "    <tr>\n",
       "      <th>2130</th>\n",
       "      <td>Leptodactylidae</td>\n",
       "      <td>Adenomera</td>\n",
       "      <td>AdenomeraHylaedactylus</td>\n",
       "    </tr>\n",
       "    <tr>\n",
       "      <th>2131</th>\n",
       "      <td>Leptodactylidae</td>\n",
       "      <td>Adenomera</td>\n",
       "      <td>AdenomeraHylaedactylus</td>\n",
       "    </tr>\n",
       "    <tr>\n",
       "      <th>2132</th>\n",
       "      <td>Hylidae</td>\n",
       "      <td>Hypsiboas</td>\n",
       "      <td>HypsiboasCordobae</td>\n",
       "    </tr>\n",
       "    <tr>\n",
       "      <th>2133</th>\n",
       "      <td>Leptodactylidae</td>\n",
       "      <td>Adenomera</td>\n",
       "      <td>AdenomeraHylaedactylus</td>\n",
       "    </tr>\n",
       "    <tr>\n",
       "      <th>2134</th>\n",
       "      <td>Leptodactylidae</td>\n",
       "      <td>Adenomera</td>\n",
       "      <td>AdenomeraHylaedactylus</td>\n",
       "    </tr>\n",
       "    <tr>\n",
       "      <th>2135</th>\n",
       "      <td>Hylidae</td>\n",
       "      <td>Dendropsophus</td>\n",
       "      <td>HylaMinuta</td>\n",
       "    </tr>\n",
       "    <tr>\n",
       "      <th>2136</th>\n",
       "      <td>Leptodactylidae</td>\n",
       "      <td>Adenomera</td>\n",
       "      <td>AdenomeraHylaedactylus</td>\n",
       "    </tr>\n",
       "    <tr>\n",
       "      <th>2137</th>\n",
       "      <td>Hylidae</td>\n",
       "      <td>Osteocephalus</td>\n",
       "      <td>OsteocephalusOophagus</td>\n",
       "    </tr>\n",
       "    <tr>\n",
       "      <th>2138</th>\n",
       "      <td>Hylidae</td>\n",
       "      <td>Hypsiboas</td>\n",
       "      <td>HypsiboasCinerascens</td>\n",
       "    </tr>\n",
       "    <tr>\n",
       "      <th>2139</th>\n",
       "      <td>Leptodactylidae</td>\n",
       "      <td>Adenomera</td>\n",
       "      <td>AdenomeraHylaedactylus</td>\n",
       "    </tr>\n",
       "    <tr>\n",
       "      <th>2140</th>\n",
       "      <td>Dendrobatidae</td>\n",
       "      <td>Ameerega</td>\n",
       "      <td>Ameeregatrivittata</td>\n",
       "    </tr>\n",
       "    <tr>\n",
       "      <th>2141</th>\n",
       "      <td>Leptodactylidae</td>\n",
       "      <td>Adenomera</td>\n",
       "      <td>AdenomeraHylaedactylus</td>\n",
       "    </tr>\n",
       "    <tr>\n",
       "      <th>2142</th>\n",
       "      <td>Leptodactylidae</td>\n",
       "      <td>Adenomera</td>\n",
       "      <td>AdenomeraHylaedactylus</td>\n",
       "    </tr>\n",
       "    <tr>\n",
       "      <th>2143</th>\n",
       "      <td>Hylidae</td>\n",
       "      <td>Scinax</td>\n",
       "      <td>ScinaxRuber</td>\n",
       "    </tr>\n",
       "    <tr>\n",
       "      <th>2144</th>\n",
       "      <td>Hylidae</td>\n",
       "      <td>Osteocephalus</td>\n",
       "      <td>OsteocephalusOophagus</td>\n",
       "    </tr>\n",
       "    <tr>\n",
       "      <th>2145</th>\n",
       "      <td>Dendrobatidae</td>\n",
       "      <td>Ameerega</td>\n",
       "      <td>Ameeregatrivittata</td>\n",
       "    </tr>\n",
       "    <tr>\n",
       "      <th>2146</th>\n",
       "      <td>Leptodactylidae</td>\n",
       "      <td>Adenomera</td>\n",
       "      <td>AdenomeraHylaedactylus</td>\n",
       "    </tr>\n",
       "    <tr>\n",
       "      <th>2147</th>\n",
       "      <td>Leptodactylidae</td>\n",
       "      <td>Adenomera</td>\n",
       "      <td>AdenomeraHylaedactylus</td>\n",
       "    </tr>\n",
       "    <tr>\n",
       "      <th>2148</th>\n",
       "      <td>Leptodactylidae</td>\n",
       "      <td>Adenomera</td>\n",
       "      <td>AdenomeraHylaedactylus</td>\n",
       "    </tr>\n",
       "    <tr>\n",
       "      <th>2149</th>\n",
       "      <td>Leptodactylidae</td>\n",
       "      <td>Adenomera</td>\n",
       "      <td>AdenomeraHylaedactylus</td>\n",
       "    </tr>\n",
       "    <tr>\n",
       "      <th>2150</th>\n",
       "      <td>Leptodactylidae</td>\n",
       "      <td>Adenomera</td>\n",
       "      <td>AdenomeraHylaedactylus</td>\n",
       "    </tr>\n",
       "    <tr>\n",
       "      <th>2151</th>\n",
       "      <td>Leptodactylidae</td>\n",
       "      <td>Adenomera</td>\n",
       "      <td>AdenomeraAndre</td>\n",
       "    </tr>\n",
       "    <tr>\n",
       "      <th>2152</th>\n",
       "      <td>Leptodactylidae</td>\n",
       "      <td>Adenomera</td>\n",
       "      <td>AdenomeraHylaedactylus</td>\n",
       "    </tr>\n",
       "    <tr>\n",
       "      <th>2153</th>\n",
       "      <td>Hylidae</td>\n",
       "      <td>Osteocephalus</td>\n",
       "      <td>OsteocephalusOophagus</td>\n",
       "    </tr>\n",
       "    <tr>\n",
       "      <th>2154</th>\n",
       "      <td>Leptodactylidae</td>\n",
       "      <td>Adenomera</td>\n",
       "      <td>AdenomeraHylaedactylus</td>\n",
       "    </tr>\n",
       "    <tr>\n",
       "      <th>2155</th>\n",
       "      <td>Leptodactylidae</td>\n",
       "      <td>Adenomera</td>\n",
       "      <td>AdenomeraAndre</td>\n",
       "    </tr>\n",
       "    <tr>\n",
       "      <th>2156</th>\n",
       "      <td>Leptodactylidae</td>\n",
       "      <td>Adenomera</td>\n",
       "      <td>AdenomeraHylaedactylus</td>\n",
       "    </tr>\n",
       "    <tr>\n",
       "      <th>2157</th>\n",
       "      <td>Leptodactylidae</td>\n",
       "      <td>Adenomera</td>\n",
       "      <td>AdenomeraHylaedactylus</td>\n",
       "    </tr>\n",
       "    <tr>\n",
       "      <th>2158</th>\n",
       "      <td>Leptodactylidae</td>\n",
       "      <td>Adenomera</td>\n",
       "      <td>AdenomeraHylaedactylus</td>\n",
       "    </tr>\n",
       "  </tbody>\n",
       "</table>\n",
       "<p>2159 rows × 3 columns</p>\n",
       "</div>"
      ],
      "text/plain": [
       "               Family          Genus                 Species\n",
       "0     Leptodactylidae      Adenomera  AdenomeraHylaedactylus\n",
       "1             Hylidae      Hypsiboas    HypsiboasCinerascens\n",
       "2             Hylidae      Hypsiboas       HypsiboasCordobae\n",
       "3     Leptodactylidae      Adenomera  AdenomeraHylaedactylus\n",
       "4     Leptodactylidae      Adenomera  AdenomeraHylaedactylus\n",
       "5     Leptodactylidae      Adenomera  AdenomeraHylaedactylus\n",
       "6     Leptodactylidae      Adenomera  AdenomeraHylaedactylus\n",
       "7     Leptodactylidae      Adenomera          AdenomeraAndre\n",
       "8     Leptodactylidae      Adenomera          AdenomeraAndre\n",
       "9             Hylidae      Hypsiboas    HypsiboasCinerascens\n",
       "10    Leptodactylidae      Adenomera  AdenomeraHylaedactylus\n",
       "11    Leptodactylidae      Adenomera  AdenomeraHylaedactylus\n",
       "12    Leptodactylidae      Adenomera          AdenomeraAndre\n",
       "13      Dendrobatidae       Ameerega      Ameeregatrivittata\n",
       "14            Hylidae      Hypsiboas       HypsiboasCordobae\n",
       "15    Leptodactylidae      Adenomera          AdenomeraAndre\n",
       "16    Leptodactylidae      Adenomera  AdenomeraHylaedactylus\n",
       "17    Leptodactylidae      Adenomera  AdenomeraHylaedactylus\n",
       "18    Leptodactylidae      Adenomera  AdenomeraHylaedactylus\n",
       "19    Leptodactylidae      Adenomera  AdenomeraHylaedactylus\n",
       "20      Dendrobatidae       Ameerega      Ameeregatrivittata\n",
       "21    Leptodactylidae      Adenomera  AdenomeraHylaedactylus\n",
       "22    Leptodactylidae      Adenomera  AdenomeraHylaedactylus\n",
       "23            Hylidae      Hypsiboas       HypsiboasCordobae\n",
       "24    Leptodactylidae      Adenomera  AdenomeraHylaedactylus\n",
       "25            Hylidae      Hypsiboas       HypsiboasCordobae\n",
       "26            Hylidae  Dendropsophus              HylaMinuta\n",
       "27            Hylidae      Hypsiboas       HypsiboasCordobae\n",
       "28            Hylidae      Hypsiboas       HypsiboasCordobae\n",
       "29    Leptodactylidae      Adenomera  AdenomeraHylaedactylus\n",
       "...               ...            ...                     ...\n",
       "2129          Hylidae      Hypsiboas       HypsiboasCordobae\n",
       "2130  Leptodactylidae      Adenomera  AdenomeraHylaedactylus\n",
       "2131  Leptodactylidae      Adenomera  AdenomeraHylaedactylus\n",
       "2132          Hylidae      Hypsiboas       HypsiboasCordobae\n",
       "2133  Leptodactylidae      Adenomera  AdenomeraHylaedactylus\n",
       "2134  Leptodactylidae      Adenomera  AdenomeraHylaedactylus\n",
       "2135          Hylidae  Dendropsophus              HylaMinuta\n",
       "2136  Leptodactylidae      Adenomera  AdenomeraHylaedactylus\n",
       "2137          Hylidae  Osteocephalus   OsteocephalusOophagus\n",
       "2138          Hylidae      Hypsiboas    HypsiboasCinerascens\n",
       "2139  Leptodactylidae      Adenomera  AdenomeraHylaedactylus\n",
       "2140    Dendrobatidae       Ameerega      Ameeregatrivittata\n",
       "2141  Leptodactylidae      Adenomera  AdenomeraHylaedactylus\n",
       "2142  Leptodactylidae      Adenomera  AdenomeraHylaedactylus\n",
       "2143          Hylidae         Scinax             ScinaxRuber\n",
       "2144          Hylidae  Osteocephalus   OsteocephalusOophagus\n",
       "2145    Dendrobatidae       Ameerega      Ameeregatrivittata\n",
       "2146  Leptodactylidae      Adenomera  AdenomeraHylaedactylus\n",
       "2147  Leptodactylidae      Adenomera  AdenomeraHylaedactylus\n",
       "2148  Leptodactylidae      Adenomera  AdenomeraHylaedactylus\n",
       "2149  Leptodactylidae      Adenomera  AdenomeraHylaedactylus\n",
       "2150  Leptodactylidae      Adenomera  AdenomeraHylaedactylus\n",
       "2151  Leptodactylidae      Adenomera          AdenomeraAndre\n",
       "2152  Leptodactylidae      Adenomera  AdenomeraHylaedactylus\n",
       "2153          Hylidae  Osteocephalus   OsteocephalusOophagus\n",
       "2154  Leptodactylidae      Adenomera  AdenomeraHylaedactylus\n",
       "2155  Leptodactylidae      Adenomera          AdenomeraAndre\n",
       "2156  Leptodactylidae      Adenomera  AdenomeraHylaedactylus\n",
       "2157  Leptodactylidae      Adenomera  AdenomeraHylaedactylus\n",
       "2158  Leptodactylidae      Adenomera  AdenomeraHylaedactylus\n",
       "\n",
       "[2159 rows x 3 columns]"
      ]
     },
     "execution_count": 197,
     "metadata": {},
     "output_type": "execute_result"
    }
   ],
   "source": [
    "# apply the classifiers to all 3 labels on test set\n",
    "\n",
    "clf_L_f.fit(frogs_X_train, frogs_y_f_train)\n",
    "frogs_y_f_test_L_pred = pd.DataFrame(data = clf_L_f.predict(frogs_X_test), columns = [frogs_columns[-3]], index=None)\n",
    "\n",
    "clf_L_g.fit(frogs_X_train, frogs_y_g_train)\n",
    "frogs_y_g_test_L_pred = pd.DataFrame(data = clf_L_g.predict(frogs_X_test), columns = [frogs_columns[-2]], index=None)\n",
    "\n",
    "clf_L_s.fit(frogs_X_train, frogs_y_s_train)\n",
    "frogs_y_s_test_L_pred = pd.DataFrame(data = clf_L_s.predict(frogs_X_test), columns = [frogs_columns[-1]], index=None) \n",
    "\n",
    "frogs_y_test_L_pred = frogs_y_f_test_L_pred.merge(frogs_y_g_test_L_pred, how = 'inner',left_index=True, right_index=True).merge(frogs_y_s_test_L_pred, how = 'inner',left_index=True, right_index=True)\n",
    "frogs_y_test_L_pred\n"
   ]
  },
  {
   "cell_type": "code",
   "execution_count": 198,
   "metadata": {
    "ExecuteTime": {
     "end_time": "2019-03-28T05:14:28.964703Z",
     "start_time": "2019-03-28T05:14:28.946254Z"
    }
   },
   "outputs": [
    {
     "name": "stdout",
     "output_type": "stream",
     "text": [
      "The exact match of test data is 0.9689671144048171\n"
     ]
    }
   ],
   "source": [
    "# exact match\n",
    "\n",
    "print(\"The exact match of test data is\",\n",
    "      em_accuracy_score(frogs_y_test.values, frogs_y_test_L_pred.values))\n"
   ]
  },
  {
   "cell_type": "code",
   "execution_count": 199,
   "metadata": {
    "ExecuteTime": {
     "end_time": "2019-03-28T05:14:28.987169Z",
     "start_time": "2019-03-28T05:14:28.966185Z"
    }
   },
   "outputs": [
    {
     "name": "stdout",
     "output_type": "stream",
     "text": [
      "The hamming loss of test data is 0.05681642735834491\n"
     ]
    }
   ],
   "source": [
    "# hamming loss\n",
    "\n",
    "frogs_L_f_hl = hamming_loss(frogs_y_f_test, frogs_y_f_test_L_pred)\n",
    "frogs_L_g_hl = hamming_loss(frogs_y_g_test, frogs_y_g_test_L_pred)\n",
    "frogs_L_s_hl = hamming_loss(frogs_y_s_test, frogs_y_s_test_L_pred)\n",
    "\n",
    "frogs_L_hl = (frogs_L_f_hl + frogs_L_g_hl + frogs_L_s_hl)/3\n",
    "print(\"The hamming loss of test data is\", frogs_L_hl)"
   ]
  },
  {
   "cell_type": "markdown",
   "metadata": {},
   "source": [
    "### (iv) (balance the data by SMOTE)Train a SVM model with L1-penalized kernels(L1 penalty with linear kernels) and one versus all classifiers determined by 10 folds cross validation"
   ]
  },
  {
   "cell_type": "code",
   "execution_count": 200,
   "metadata": {
    "ExecuteTime": {
     "end_time": "2019-03-28T05:14:29.367359Z",
     "start_time": "2019-03-28T05:14:28.989157Z"
    }
   },
   "outputs": [],
   "source": [
    "sm = SMOTE()\n",
    "frogs_X_f_train_cps, frogs_y_f_train_cps = sm.fit_resample(frogs_X_train, frogs_y_f_train)\n",
    "frogs_X_g_train_cps, frogs_y_g_train_cps = sm.fit_resample(frogs_X_train, frogs_y_g_train)\n",
    "frogs_X_s_train_cps, frogs_y_s_train_cps = sm.fit_resample(frogs_X_train, frogs_y_s_train)\n"
   ]
  },
  {
   "cell_type": "code",
   "execution_count": 201,
   "metadata": {
    "ExecuteTime": {
     "end_time": "2019-03-28T05:19:59.520075Z",
     "start_time": "2019-03-28T05:14:29.369310Z"
    }
   },
   "outputs": [
    {
     "name": "stdout",
     "output_type": "stream",
     "text": [
      "{0.94866824950294: frogs_para_L_cps(C=0.01), 0.9485868162781843: frogs_para_L_cps(C=0.001), 0.9485053830534286: frogs_para_L_cps(C=10.0)}\n"
     ]
    }
   ],
   "source": [
    "# for label\"Family\"\n",
    "\n",
    "frogs_cv_L_f_cps_dict= {}\n",
    "frogs_para_L_cps = namedtuple(\"frogs_para_L_cps\", [\"C\"])\n",
    "for c in (1e3, 1e2, 1e1, 1e0, 1e-1, 1e-2, 1e-3):\n",
    "    clf_L_f_cps = LinearSVC(penalty = 'l1', loss='squared_hinge', dual=False) \n",
    "    # 10 folds cross validation on each paired parameters\n",
    "    clf_L_f_cps_cv_scores = cross_val_score(clf_L_f_cps, frogs_X_f_train_cps, frogs_y_f_train_cps, cv = 10)\n",
    "    clf_L_f_cps_cv = sum(clf_L_f_cps_cv_scores)/10\n",
    "    # add cv scores to the dictionary\n",
    "    frogs_cv_L_f_cps_dict[clf_L_f_cps_cv] = frogs_para_L_cps(C = c)\n",
    "print(frogs_cv_L_f_cps_dict)\n"
   ]
  },
  {
   "cell_type": "code",
   "execution_count": 202,
   "metadata": {
    "ExecuteTime": {
     "end_time": "2019-03-28T05:19:59.527639Z",
     "start_time": "2019-03-28T05:19:59.522257Z"
    }
   },
   "outputs": [
    {
     "name": "stdout",
     "output_type": "stream",
     "text": [
      "The highest cross-validation score and its parameters for \"Family\" is (0.94866824950294, frogs_para_L_cps(C=0.01))\n"
     ]
    }
   ],
   "source": [
    "# determine the parameters\n",
    "frogs_para_L_f_cps = max(zip(frogs_cv_L_f_cps_dict.keys(), frogs_cv_L_f_cps_dict.values()))\n",
    "print('The highest cross-validation score and its parameters for \"Family\" is', frogs_para_L_f_cps)\n"
   ]
  },
  {
   "cell_type": "code",
   "execution_count": 203,
   "metadata": {
    "ExecuteTime": {
     "end_time": "2019-03-28T05:36:25.584781Z",
     "start_time": "2019-03-28T05:19:59.531106Z"
    }
   },
   "outputs": [
    {
     "name": "stdout",
     "output_type": "stream",
     "text": [
      "{0.9567083283617708: frogs_para_L_cps(C=1000.0), 0.9568377878534783: frogs_para_L_cps(C=100.0), 0.9567084775086506: frogs_para_L_cps(C=0.01), 0.9566222706120989: frogs_para_L_cps(C=0.1), 0.9565791671638231: frogs_para_L_cps(C=0.001)}\n"
     ]
    }
   ],
   "source": [
    "# for label\"Genus\"\n",
    "\n",
    "frogs_cv_L_g_cps_dict= {}\n",
    "frogs_para_L_cps = namedtuple(\"frogs_para_L_cps\", [\"C\"])\n",
    "for c in (1e3, 1e2, 1e1, 1e0, 1e-1, 1e-2, 1e-3):\n",
    "    clf_L_g_cps = LinearSVC(penalty = 'l1', loss='squared_hinge', dual=False)\n",
    "    # 10 folds cross validation on each paired parameters\n",
    "    clf_L_g_cps_cv_scores = cross_val_score(clf_L_g_cps, frogs_X_g_train_cps, frogs_y_g_train_cps, cv = 10)\n",
    "    clf_L_g_cps_cv = sum(clf_L_g_cps_cv_scores)/10\n",
    "    # add cv scores to the dictionary\n",
    "    frogs_cv_L_g_cps_dict[clf_L_g_cps_cv] = frogs_para_L_cps(C = c)\n",
    "print(frogs_cv_L_g_cps_dict)\n"
   ]
  },
  {
   "cell_type": "code",
   "execution_count": 167,
   "metadata": {
    "ExecuteTime": {
     "end_time": "2019-03-28T01:11:02.789264Z",
     "start_time": "2019-03-28T01:11:02.783816Z"
    }
   },
   "outputs": [
    {
     "name": "stdout",
     "output_type": "stream",
     "text": [
      "The highest cross-validation score and its parameters for \"Genus\" is (0.9590837907170983, frogs_para_L_cps(C=1.0))\n"
     ]
    }
   ],
   "source": [
    "# determine the parameters\n",
    "frogs_para_L_g_cps = max(zip(frogs_cv_L_g_cps_dict.keys(), frogs_cv_L_g_cps_dict.values()))\n",
    "print('The highest cross-validation score and its parameters for \"Genus\" is', frogs_para_L_g_cps)\n"
   ]
  },
  {
   "cell_type": "code",
   "execution_count": 176,
   "metadata": {
    "ExecuteTime": {
     "end_time": "2019-03-28T01:58:48.141873Z",
     "start_time": "2019-03-28T01:38:03.363283Z"
    }
   },
   "outputs": [
    {
     "name": "stdout",
     "output_type": "stream",
     "text": [
      "{0.9622793576446973: frogs_para_L_cps(C=0.1), 0.9622385413181667: frogs_para_L_cps(C=1.0), 0.962156574105052: frogs_para_L_cps(C=0.01), 0.962115925058548: frogs_para_L_cps(C=0.001)}\n"
     ]
    }
   ],
   "source": [
    "# for label\"Species\"\n",
    "\n",
    "frogs_cv_L_s_cps_dict= {}\n",
    "frogs_para_L_cps = namedtuple(\"frogs_para_L_cps\", [\"C\"])\n",
    "for c in (1e3, 1e2, 1e1, 1e0, 1e-1, 1e-2, 1e-3):\n",
    "    clf_L_s_cps = LinearSVC(penalty = 'l1', loss='squared_hinge', dual=False) \n",
    "    # 10 folds cross validation on each paired parameters\n",
    "    clf_L_s_cps_cv_scores = cross_val_score(clf_L_s_cps, frogs_X_s_train_cps, frogs_y_s_train_cps, cv = 10)\n",
    "    clf_L_s_cps_cv = sum(clf_L_s_cps_cv_scores)/10\n",
    "    # add cv scores to the dictionary\n",
    "    frogs_cv_L_s_cps_dict[clf_L_s_cps_cv] = frogs_para_L_cps(C = c)\n",
    "print(frogs_cv_L_s_cps_dict)\n"
   ]
  },
  {
   "cell_type": "code",
   "execution_count": 177,
   "metadata": {
    "ExecuteTime": {
     "end_time": "2019-03-28T01:58:48.149010Z",
     "start_time": "2019-03-28T01:58:48.144155Z"
    }
   },
   "outputs": [
    {
     "name": "stdout",
     "output_type": "stream",
     "text": [
      "The highest cross-validation score and its parameters for \"Species\" is (0.9622793576446973, frogs_para_L_cps(C=0.1))\n"
     ]
    }
   ],
   "source": [
    "# determine the parameters\n",
    "frogs_para_L_s_cps = max(zip(frogs_cv_L_s_cps_dict.keys(), frogs_cv_L_s_cps_dict.values()))\n",
    "print('The highest cross-validation score and its parameters for \"Species\" is', frogs_para_L_s_cps)\n"
   ]
  },
  {
   "cell_type": "code",
   "execution_count": 178,
   "metadata": {
    "ExecuteTime": {
     "end_time": "2019-03-28T01:59:29.678551Z",
     "start_time": "2019-03-28T01:58:48.151298Z"
    }
   },
   "outputs": [
    {
     "data": {
      "text/html": [
       "<div>\n",
       "<style scoped>\n",
       "    .dataframe tbody tr th:only-of-type {\n",
       "        vertical-align: middle;\n",
       "    }\n",
       "\n",
       "    .dataframe tbody tr th {\n",
       "        vertical-align: top;\n",
       "    }\n",
       "\n",
       "    .dataframe thead th {\n",
       "        text-align: right;\n",
       "    }\n",
       "</style>\n",
       "<table border=\"1\" class=\"dataframe\">\n",
       "  <thead>\n",
       "    <tr style=\"text-align: right;\">\n",
       "      <th></th>\n",
       "      <th>Family</th>\n",
       "      <th>Genus</th>\n",
       "      <th>Species</th>\n",
       "    </tr>\n",
       "  </thead>\n",
       "  <tbody>\n",
       "    <tr>\n",
       "      <th>0</th>\n",
       "      <td>Leptodactylidae</td>\n",
       "      <td>Adenomera</td>\n",
       "      <td>AdenomeraHylaedactylus</td>\n",
       "    </tr>\n",
       "    <tr>\n",
       "      <th>1</th>\n",
       "      <td>Hylidae</td>\n",
       "      <td>Hypsiboas</td>\n",
       "      <td>HypsiboasCinerascens</td>\n",
       "    </tr>\n",
       "    <tr>\n",
       "      <th>2</th>\n",
       "      <td>Hylidae</td>\n",
       "      <td>Hypsiboas</td>\n",
       "      <td>HypsiboasCordobae</td>\n",
       "    </tr>\n",
       "    <tr>\n",
       "      <th>3</th>\n",
       "      <td>Leptodactylidae</td>\n",
       "      <td>Adenomera</td>\n",
       "      <td>AdenomeraHylaedactylus</td>\n",
       "    </tr>\n",
       "    <tr>\n",
       "      <th>4</th>\n",
       "      <td>Leptodactylidae</td>\n",
       "      <td>Adenomera</td>\n",
       "      <td>AdenomeraHylaedactylus</td>\n",
       "    </tr>\n",
       "    <tr>\n",
       "      <th>5</th>\n",
       "      <td>Leptodactylidae</td>\n",
       "      <td>Adenomera</td>\n",
       "      <td>AdenomeraHylaedactylus</td>\n",
       "    </tr>\n",
       "    <tr>\n",
       "      <th>6</th>\n",
       "      <td>Leptodactylidae</td>\n",
       "      <td>Dendropsophus</td>\n",
       "      <td>AdenomeraHylaedactylus</td>\n",
       "    </tr>\n",
       "    <tr>\n",
       "      <th>7</th>\n",
       "      <td>Leptodactylidae</td>\n",
       "      <td>Adenomera</td>\n",
       "      <td>AdenomeraAndre</td>\n",
       "    </tr>\n",
       "    <tr>\n",
       "      <th>8</th>\n",
       "      <td>Leptodactylidae</td>\n",
       "      <td>Adenomera</td>\n",
       "      <td>AdenomeraAndre</td>\n",
       "    </tr>\n",
       "    <tr>\n",
       "      <th>9</th>\n",
       "      <td>Hylidae</td>\n",
       "      <td>Scinax</td>\n",
       "      <td>HypsiboasCinerascens</td>\n",
       "    </tr>\n",
       "    <tr>\n",
       "      <th>10</th>\n",
       "      <td>Leptodactylidae</td>\n",
       "      <td>Adenomera</td>\n",
       "      <td>AdenomeraHylaedactylus</td>\n",
       "    </tr>\n",
       "    <tr>\n",
       "      <th>11</th>\n",
       "      <td>Leptodactylidae</td>\n",
       "      <td>Adenomera</td>\n",
       "      <td>AdenomeraHylaedactylus</td>\n",
       "    </tr>\n",
       "    <tr>\n",
       "      <th>12</th>\n",
       "      <td>Leptodactylidae</td>\n",
       "      <td>Adenomera</td>\n",
       "      <td>AdenomeraAndre</td>\n",
       "    </tr>\n",
       "    <tr>\n",
       "      <th>13</th>\n",
       "      <td>Dendrobatidae</td>\n",
       "      <td>Ameerega</td>\n",
       "      <td>Ameeregatrivittata</td>\n",
       "    </tr>\n",
       "    <tr>\n",
       "      <th>14</th>\n",
       "      <td>Hylidae</td>\n",
       "      <td>Hypsiboas</td>\n",
       "      <td>HypsiboasCordobae</td>\n",
       "    </tr>\n",
       "    <tr>\n",
       "      <th>15</th>\n",
       "      <td>Bufonidae</td>\n",
       "      <td>Osteocephalus</td>\n",
       "      <td>AdenomeraAndre</td>\n",
       "    </tr>\n",
       "    <tr>\n",
       "      <th>16</th>\n",
       "      <td>Leptodactylidae</td>\n",
       "      <td>Adenomera</td>\n",
       "      <td>AdenomeraHylaedactylus</td>\n",
       "    </tr>\n",
       "    <tr>\n",
       "      <th>17</th>\n",
       "      <td>Leptodactylidae</td>\n",
       "      <td>Adenomera</td>\n",
       "      <td>AdenomeraHylaedactylus</td>\n",
       "    </tr>\n",
       "    <tr>\n",
       "      <th>18</th>\n",
       "      <td>Leptodactylidae</td>\n",
       "      <td>Adenomera</td>\n",
       "      <td>AdenomeraHylaedactylus</td>\n",
       "    </tr>\n",
       "    <tr>\n",
       "      <th>19</th>\n",
       "      <td>Leptodactylidae</td>\n",
       "      <td>Adenomera</td>\n",
       "      <td>AdenomeraHylaedactylus</td>\n",
       "    </tr>\n",
       "    <tr>\n",
       "      <th>20</th>\n",
       "      <td>Dendrobatidae</td>\n",
       "      <td>Ameerega</td>\n",
       "      <td>Ameeregatrivittata</td>\n",
       "    </tr>\n",
       "    <tr>\n",
       "      <th>21</th>\n",
       "      <td>Leptodactylidae</td>\n",
       "      <td>Adenomera</td>\n",
       "      <td>AdenomeraHylaedactylus</td>\n",
       "    </tr>\n",
       "    <tr>\n",
       "      <th>22</th>\n",
       "      <td>Leptodactylidae</td>\n",
       "      <td>Adenomera</td>\n",
       "      <td>AdenomeraHylaedactylus</td>\n",
       "    </tr>\n",
       "    <tr>\n",
       "      <th>23</th>\n",
       "      <td>Hylidae</td>\n",
       "      <td>Hypsiboas</td>\n",
       "      <td>HypsiboasCordobae</td>\n",
       "    </tr>\n",
       "    <tr>\n",
       "      <th>24</th>\n",
       "      <td>Leptodactylidae</td>\n",
       "      <td>Adenomera</td>\n",
       "      <td>AdenomeraHylaedactylus</td>\n",
       "    </tr>\n",
       "    <tr>\n",
       "      <th>25</th>\n",
       "      <td>Hylidae</td>\n",
       "      <td>Hypsiboas</td>\n",
       "      <td>HypsiboasCordobae</td>\n",
       "    </tr>\n",
       "    <tr>\n",
       "      <th>26</th>\n",
       "      <td>Dendrobatidae</td>\n",
       "      <td>Dendropsophus</td>\n",
       "      <td>HylaMinuta</td>\n",
       "    </tr>\n",
       "    <tr>\n",
       "      <th>27</th>\n",
       "      <td>Hylidae</td>\n",
       "      <td>Hypsiboas</td>\n",
       "      <td>HypsiboasCordobae</td>\n",
       "    </tr>\n",
       "    <tr>\n",
       "      <th>28</th>\n",
       "      <td>Hylidae</td>\n",
       "      <td>Hypsiboas</td>\n",
       "      <td>HypsiboasCordobae</td>\n",
       "    </tr>\n",
       "    <tr>\n",
       "      <th>29</th>\n",
       "      <td>Leptodactylidae</td>\n",
       "      <td>Adenomera</td>\n",
       "      <td>AdenomeraHylaedactylus</td>\n",
       "    </tr>\n",
       "    <tr>\n",
       "      <th>...</th>\n",
       "      <td>...</td>\n",
       "      <td>...</td>\n",
       "      <td>...</td>\n",
       "    </tr>\n",
       "    <tr>\n",
       "      <th>2129</th>\n",
       "      <td>Hylidae</td>\n",
       "      <td>Osteocephalus</td>\n",
       "      <td>OsteocephalusOophagus</td>\n",
       "    </tr>\n",
       "    <tr>\n",
       "      <th>2130</th>\n",
       "      <td>Leptodactylidae</td>\n",
       "      <td>Adenomera</td>\n",
       "      <td>AdenomeraHylaedactylus</td>\n",
       "    </tr>\n",
       "    <tr>\n",
       "      <th>2131</th>\n",
       "      <td>Leptodactylidae</td>\n",
       "      <td>Adenomera</td>\n",
       "      <td>AdenomeraHylaedactylus</td>\n",
       "    </tr>\n",
       "    <tr>\n",
       "      <th>2132</th>\n",
       "      <td>Hylidae</td>\n",
       "      <td>Hypsiboas</td>\n",
       "      <td>HypsiboasCordobae</td>\n",
       "    </tr>\n",
       "    <tr>\n",
       "      <th>2133</th>\n",
       "      <td>Leptodactylidae</td>\n",
       "      <td>Adenomera</td>\n",
       "      <td>AdenomeraHylaedactylus</td>\n",
       "    </tr>\n",
       "    <tr>\n",
       "      <th>2134</th>\n",
       "      <td>Leptodactylidae</td>\n",
       "      <td>Adenomera</td>\n",
       "      <td>AdenomeraHylaedactylus</td>\n",
       "    </tr>\n",
       "    <tr>\n",
       "      <th>2135</th>\n",
       "      <td>Hylidae</td>\n",
       "      <td>Dendropsophus</td>\n",
       "      <td>HylaMinuta</td>\n",
       "    </tr>\n",
       "    <tr>\n",
       "      <th>2136</th>\n",
       "      <td>Leptodactylidae</td>\n",
       "      <td>Adenomera</td>\n",
       "      <td>AdenomeraHylaedactylus</td>\n",
       "    </tr>\n",
       "    <tr>\n",
       "      <th>2137</th>\n",
       "      <td>Hylidae</td>\n",
       "      <td>Osteocephalus</td>\n",
       "      <td>OsteocephalusOophagus</td>\n",
       "    </tr>\n",
       "    <tr>\n",
       "      <th>2138</th>\n",
       "      <td>Hylidae</td>\n",
       "      <td>Hypsiboas</td>\n",
       "      <td>HypsiboasCinerascens</td>\n",
       "    </tr>\n",
       "    <tr>\n",
       "      <th>2139</th>\n",
       "      <td>Leptodactylidae</td>\n",
       "      <td>Adenomera</td>\n",
       "      <td>AdenomeraHylaedactylus</td>\n",
       "    </tr>\n",
       "    <tr>\n",
       "      <th>2140</th>\n",
       "      <td>Dendrobatidae</td>\n",
       "      <td>Ameerega</td>\n",
       "      <td>Ameeregatrivittata</td>\n",
       "    </tr>\n",
       "    <tr>\n",
       "      <th>2141</th>\n",
       "      <td>Leptodactylidae</td>\n",
       "      <td>Adenomera</td>\n",
       "      <td>AdenomeraHylaedactylus</td>\n",
       "    </tr>\n",
       "    <tr>\n",
       "      <th>2142</th>\n",
       "      <td>Leptodactylidae</td>\n",
       "      <td>Adenomera</td>\n",
       "      <td>AdenomeraHylaedactylus</td>\n",
       "    </tr>\n",
       "    <tr>\n",
       "      <th>2143</th>\n",
       "      <td>Leptodactylidae</td>\n",
       "      <td>Scinax</td>\n",
       "      <td>ScinaxRuber</td>\n",
       "    </tr>\n",
       "    <tr>\n",
       "      <th>2144</th>\n",
       "      <td>Hylidae</td>\n",
       "      <td>Osteocephalus</td>\n",
       "      <td>OsteocephalusOophagus</td>\n",
       "    </tr>\n",
       "    <tr>\n",
       "      <th>2145</th>\n",
       "      <td>Dendrobatidae</td>\n",
       "      <td>Ameerega</td>\n",
       "      <td>Ameeregatrivittata</td>\n",
       "    </tr>\n",
       "    <tr>\n",
       "      <th>2146</th>\n",
       "      <td>Leptodactylidae</td>\n",
       "      <td>Adenomera</td>\n",
       "      <td>AdenomeraHylaedactylus</td>\n",
       "    </tr>\n",
       "    <tr>\n",
       "      <th>2147</th>\n",
       "      <td>Leptodactylidae</td>\n",
       "      <td>Adenomera</td>\n",
       "      <td>AdenomeraHylaedactylus</td>\n",
       "    </tr>\n",
       "    <tr>\n",
       "      <th>2148</th>\n",
       "      <td>Leptodactylidae</td>\n",
       "      <td>Adenomera</td>\n",
       "      <td>AdenomeraHylaedactylus</td>\n",
       "    </tr>\n",
       "    <tr>\n",
       "      <th>2149</th>\n",
       "      <td>Leptodactylidae</td>\n",
       "      <td>Adenomera</td>\n",
       "      <td>AdenomeraHylaedactylus</td>\n",
       "    </tr>\n",
       "    <tr>\n",
       "      <th>2150</th>\n",
       "      <td>Leptodactylidae</td>\n",
       "      <td>Adenomera</td>\n",
       "      <td>AdenomeraHylaedactylus</td>\n",
       "    </tr>\n",
       "    <tr>\n",
       "      <th>2151</th>\n",
       "      <td>Hylidae</td>\n",
       "      <td>Osteocephalus</td>\n",
       "      <td>AdenomeraAndre</td>\n",
       "    </tr>\n",
       "    <tr>\n",
       "      <th>2152</th>\n",
       "      <td>Leptodactylidae</td>\n",
       "      <td>Adenomera</td>\n",
       "      <td>AdenomeraHylaedactylus</td>\n",
       "    </tr>\n",
       "    <tr>\n",
       "      <th>2153</th>\n",
       "      <td>Bufonidae</td>\n",
       "      <td>Osteocephalus</td>\n",
       "      <td>OsteocephalusOophagus</td>\n",
       "    </tr>\n",
       "    <tr>\n",
       "      <th>2154</th>\n",
       "      <td>Leptodactylidae</td>\n",
       "      <td>Adenomera</td>\n",
       "      <td>AdenomeraHylaedactylus</td>\n",
       "    </tr>\n",
       "    <tr>\n",
       "      <th>2155</th>\n",
       "      <td>Leptodactylidae</td>\n",
       "      <td>Adenomera</td>\n",
       "      <td>AdenomeraAndre</td>\n",
       "    </tr>\n",
       "    <tr>\n",
       "      <th>2156</th>\n",
       "      <td>Leptodactylidae</td>\n",
       "      <td>Adenomera</td>\n",
       "      <td>AdenomeraHylaedactylus</td>\n",
       "    </tr>\n",
       "    <tr>\n",
       "      <th>2157</th>\n",
       "      <td>Leptodactylidae</td>\n",
       "      <td>Adenomera</td>\n",
       "      <td>AdenomeraHylaedactylus</td>\n",
       "    </tr>\n",
       "    <tr>\n",
       "      <th>2158</th>\n",
       "      <td>Leptodactylidae</td>\n",
       "      <td>Adenomera</td>\n",
       "      <td>AdenomeraHylaedactylus</td>\n",
       "    </tr>\n",
       "  </tbody>\n",
       "</table>\n",
       "<p>2159 rows × 3 columns</p>\n",
       "</div>"
      ],
      "text/plain": [
       "               Family          Genus                 Species\n",
       "0     Leptodactylidae      Adenomera  AdenomeraHylaedactylus\n",
       "1             Hylidae      Hypsiboas    HypsiboasCinerascens\n",
       "2             Hylidae      Hypsiboas       HypsiboasCordobae\n",
       "3     Leptodactylidae      Adenomera  AdenomeraHylaedactylus\n",
       "4     Leptodactylidae      Adenomera  AdenomeraHylaedactylus\n",
       "5     Leptodactylidae      Adenomera  AdenomeraHylaedactylus\n",
       "6     Leptodactylidae  Dendropsophus  AdenomeraHylaedactylus\n",
       "7     Leptodactylidae      Adenomera          AdenomeraAndre\n",
       "8     Leptodactylidae      Adenomera          AdenomeraAndre\n",
       "9             Hylidae         Scinax    HypsiboasCinerascens\n",
       "10    Leptodactylidae      Adenomera  AdenomeraHylaedactylus\n",
       "11    Leptodactylidae      Adenomera  AdenomeraHylaedactylus\n",
       "12    Leptodactylidae      Adenomera          AdenomeraAndre\n",
       "13      Dendrobatidae       Ameerega      Ameeregatrivittata\n",
       "14            Hylidae      Hypsiboas       HypsiboasCordobae\n",
       "15          Bufonidae  Osteocephalus          AdenomeraAndre\n",
       "16    Leptodactylidae      Adenomera  AdenomeraHylaedactylus\n",
       "17    Leptodactylidae      Adenomera  AdenomeraHylaedactylus\n",
       "18    Leptodactylidae      Adenomera  AdenomeraHylaedactylus\n",
       "19    Leptodactylidae      Adenomera  AdenomeraHylaedactylus\n",
       "20      Dendrobatidae       Ameerega      Ameeregatrivittata\n",
       "21    Leptodactylidae      Adenomera  AdenomeraHylaedactylus\n",
       "22    Leptodactylidae      Adenomera  AdenomeraHylaedactylus\n",
       "23            Hylidae      Hypsiboas       HypsiboasCordobae\n",
       "24    Leptodactylidae      Adenomera  AdenomeraHylaedactylus\n",
       "25            Hylidae      Hypsiboas       HypsiboasCordobae\n",
       "26      Dendrobatidae  Dendropsophus              HylaMinuta\n",
       "27            Hylidae      Hypsiboas       HypsiboasCordobae\n",
       "28            Hylidae      Hypsiboas       HypsiboasCordobae\n",
       "29    Leptodactylidae      Adenomera  AdenomeraHylaedactylus\n",
       "...               ...            ...                     ...\n",
       "2129          Hylidae  Osteocephalus   OsteocephalusOophagus\n",
       "2130  Leptodactylidae      Adenomera  AdenomeraHylaedactylus\n",
       "2131  Leptodactylidae      Adenomera  AdenomeraHylaedactylus\n",
       "2132          Hylidae      Hypsiboas       HypsiboasCordobae\n",
       "2133  Leptodactylidae      Adenomera  AdenomeraHylaedactylus\n",
       "2134  Leptodactylidae      Adenomera  AdenomeraHylaedactylus\n",
       "2135          Hylidae  Dendropsophus              HylaMinuta\n",
       "2136  Leptodactylidae      Adenomera  AdenomeraHylaedactylus\n",
       "2137          Hylidae  Osteocephalus   OsteocephalusOophagus\n",
       "2138          Hylidae      Hypsiboas    HypsiboasCinerascens\n",
       "2139  Leptodactylidae      Adenomera  AdenomeraHylaedactylus\n",
       "2140    Dendrobatidae       Ameerega      Ameeregatrivittata\n",
       "2141  Leptodactylidae      Adenomera  AdenomeraHylaedactylus\n",
       "2142  Leptodactylidae      Adenomera  AdenomeraHylaedactylus\n",
       "2143  Leptodactylidae         Scinax             ScinaxRuber\n",
       "2144          Hylidae  Osteocephalus   OsteocephalusOophagus\n",
       "2145    Dendrobatidae       Ameerega      Ameeregatrivittata\n",
       "2146  Leptodactylidae      Adenomera  AdenomeraHylaedactylus\n",
       "2147  Leptodactylidae      Adenomera  AdenomeraHylaedactylus\n",
       "2148  Leptodactylidae      Adenomera  AdenomeraHylaedactylus\n",
       "2149  Leptodactylidae      Adenomera  AdenomeraHylaedactylus\n",
       "2150  Leptodactylidae      Adenomera  AdenomeraHylaedactylus\n",
       "2151          Hylidae  Osteocephalus          AdenomeraAndre\n",
       "2152  Leptodactylidae      Adenomera  AdenomeraHylaedactylus\n",
       "2153        Bufonidae  Osteocephalus   OsteocephalusOophagus\n",
       "2154  Leptodactylidae      Adenomera  AdenomeraHylaedactylus\n",
       "2155  Leptodactylidae      Adenomera          AdenomeraAndre\n",
       "2156  Leptodactylidae      Adenomera  AdenomeraHylaedactylus\n",
       "2157  Leptodactylidae      Adenomera  AdenomeraHylaedactylus\n",
       "2158  Leptodactylidae      Adenomera  AdenomeraHylaedactylus\n",
       "\n",
       "[2159 rows x 3 columns]"
      ]
     },
     "execution_count": 178,
     "metadata": {},
     "output_type": "execute_result"
    }
   ],
   "source": [
    "# apply the classifiers to all 3 labels on test set\n",
    "\n",
    "clf_L_f_cps.fit(frogs_X_f_train_cps, frogs_y_f_train_cps)\n",
    "frogs_y_f_test_cps_L_pred = pd.DataFrame(data = clf_L_f_cps.predict(frogs_X_test), columns = [frogs_columns[-3]], index=None)\n",
    "\n",
    "clf_L_g_cps.fit(frogs_X_g_train_cps, frogs_y_g_train_cps)\n",
    "frogs_y_g_test_cps_L_pred = pd.DataFrame(data = clf_L_g_cps.predict(frogs_X_test), columns = [frogs_columns[-2]], index=None)\n",
    "\n",
    "clf_L_s_cps.fit(frogs_X_s_train_cps, frogs_y_s_train_cps)\n",
    "frogs_y_s_test_cps_L_pred = pd.DataFrame(data = clf_L_s_cps.predict(frogs_X_test), columns = [frogs_columns[-1]], index=None) \n",
    "\n",
    "frogs_y_test_cps_L_pred = frogs_y_f_test_cps_L_pred.merge(frogs_y_g_test_cps_L_pred, how = 'inner',left_index=True, right_index=True).merge(frogs_y_s_test_cps_L_pred, how = 'inner',left_index=True, right_index=True)\n",
    "frogs_y_test_cps_L_pred\n"
   ]
  },
  {
   "cell_type": "code",
   "execution_count": 179,
   "metadata": {
    "ExecuteTime": {
     "end_time": "2019-03-28T01:59:29.693852Z",
     "start_time": "2019-03-28T01:59:29.680737Z"
    }
   },
   "outputs": [
    {
     "name": "stdout",
     "output_type": "stream",
     "text": [
      "The exact match of test data is 0.9745252431681334\n"
     ]
    }
   ],
   "source": [
    "# exact match\n",
    "\n",
    "print(\"The exact match of test data is\",\n",
    "      em_accuracy_score(frogs_y_test.values, frogs_y_test_cps_L_pred.values))\n"
   ]
  },
  {
   "cell_type": "code",
   "execution_count": 180,
   "metadata": {
    "ExecuteTime": {
     "end_time": "2019-03-28T01:59:29.712951Z",
     "start_time": "2019-03-28T01:59:29.695835Z"
    }
   },
   "outputs": [
    {
     "name": "stdout",
     "output_type": "stream",
     "text": [
      "The hamming loss of test data is 0.07735062528948587\n"
     ]
    }
   ],
   "source": [
    "# hamming loss\n",
    "\n",
    "frogs_L_f_cps_hl = hamming_loss(frogs_y_f_test, frogs_y_f_test_cps_L_pred)\n",
    "frogs_L_g_cps_hl = hamming_loss(frogs_y_g_test, frogs_y_g_test_cps_L_pred)\n",
    "frogs_L_s_cps_hl = hamming_loss(frogs_y_s_test, frogs_y_s_test_cps_L_pred)\n",
    "\n",
    "frogs_L_cps_hl = (frogs_L_f_cps_hl + frogs_L_g_cps_hl + frogs_L_s_cps_hl)/3\n",
    "print(\"The hamming loss of test data is\", frogs_L_cps_hl)"
   ]
  },
  {
   "cell_type": "markdown",
   "metadata": {},
   "source": [
    "# 2. K-Means Clustering on a Multi-Class and Multi-Label Data Set Monte-Carlo Simulation"
   ]
  },
  {
   "cell_type": "markdown",
   "metadata": {},
   "source": [
    "## (a) Choose best k"
   ]
  },
  {
   "cell_type": "code",
   "execution_count": 209,
   "metadata": {
    "ExecuteTime": {
     "end_time": "2019-03-28T06:20:32.456294Z",
     "start_time": "2019-03-28T06:19:19.416701Z"
    }
   },
   "outputs": [
    {
     "name": "stdout",
     "output_type": "stream",
     "text": [
      "The best k choosed by different methods:\n",
      "The best k is {'ch_score': 2, 'silhouette_score': 4, 'db_score': 5}\n",
      "The best k' scores are {'ch_score': 3680.7413494630937, 'silhouette_score': 0.3788851472047738, 'db_score': 1.2285513618884898}\n"
     ]
    }
   ],
   "source": [
    "from sklearn.cluster import KMeans\n",
    "from sklearn import metrics\n",
    "\n",
    "\n",
    "k_range = range(2, 51)\n",
    "best_clustering_score = {'ch_score': -np.inf,\n",
    "                         'silhouette_score': -np.inf,\n",
    "                         'db_score': np.inf}\n",
    "best_clustering_k = {'ch_score': np.nan,\n",
    "                     'silhouette_score': np.nan,\n",
    "                     'db_score': np.nan}\n",
    "\n",
    "for k in k_range:\n",
    "    kmeans = KMeans(n_clusters=k, random_state=0).fit(frogs_X_rawdata)\n",
    "    labels = kmeans.labels_\n",
    "\n",
    "    # different methods to evaluate clustering\n",
    "    ch_score = metrics.calinski_harabaz_score(frogs_X_rawdata, labels)\n",
    "    silhouette_score = metrics.silhouette_score(frogs_X_rawdata, labels, metric='euclidean')\n",
    "    db_score = metrics.davies_bouldin_score(frogs_X_rawdata, labels)\n",
    "    \n",
    "    # higher calinski harabaz score and silhouette score is better\n",
    "    if ch_score > best_clustering_score['ch_score']:\n",
    "        best_clustering_score['ch_score'] = ch_score\n",
    "        best_clustering_k['ch_score'] = k\n",
    "    \n",
    "    if silhouette_score > best_clustering_score['silhouette_score']:\n",
    "        best_clustering_score['silhouette_score'] = silhouette_score\n",
    "        best_clustering_k['silhouette_score'] = k\n",
    "    \n",
    "    # lower davies bouldin score is better\n",
    "    if db_score < best_clustering_score['db_score']:\n",
    "        best_clustering_score['db_score'] = db_score\n",
    "        best_clustering_k['db_score'] = k\n",
    "\n",
    "        \n",
    "print(\"The best k choosed by different methods:\")\n",
    "print(\"The best k is\", best_clustering_k)\n",
    "print(\"The best k' scores are\", best_clustering_score)\n",
    "\n"
   ]
  },
  {
   "cell_type": "markdown",
   "metadata": {},
   "source": [
    "## (b) The Clustering's Label for the best k by Silhouette Score"
   ]
  },
  {
   "cell_type": "code",
   "execution_count": 215,
   "metadata": {
    "ExecuteTime": {
     "end_time": "2019-03-28T06:24:01.346474Z",
     "start_time": "2019-03-28T06:24:01.160234Z"
    }
   },
   "outputs": [
    {
     "name": "stdout",
     "output_type": "stream",
     "text": [
      "For 1 cluster,\n",
      "The majorit label for Family is Leptodactylidae\n",
      "The majorit label for Genus is Adenomera\n",
      "The majorit label for Species is AdenomeraHylaedactylus\n",
      "For 2 cluster,\n",
      "The majorit label for Family is Dendrobatidae\n",
      "The majorit label for Genus is Ameerega\n",
      "The majorit label for Species is Ameeregatrivittata\n",
      "For 3 cluster,\n",
      "The majorit label for Family is Hylidae\n",
      "The majorit label for Genus is Hypsiboas\n",
      "The majorit label for Species is HypsiboasCinerascens\n",
      "For 4 cluster,\n",
      "The majorit label for Family is Hylidae\n",
      "The majorit label for Genus is Hypsiboas\n",
      "The majorit label for Species is HypsiboasCordobae\n"
     ]
    }
   ],
   "source": [
    "kmeans = KMeans(n_clusters=best_clustering_k['silhouette_score'], random_state=0).fit(frogs_X_rawdata)\n",
    "clusters = kmeans.labels_\n",
    "\n",
    "pred_y_cluster = frogs_y.copy()\n",
    "for i in set(clusters):\n",
    "    print('For', i+1, 'cluster,')\n",
    "    for label in frogs_columns[-3:]:\n",
    "        print('The majorit label for', label, 'is', frogs_y[label][clusters == i].mode()[0])\n",
    "        pred_y_cluster[label][clusters == i] = frogs_y[label][clusters == i].mode()[0]"
   ]
  },
  {
   "cell_type": "markdown",
   "metadata": {},
   "source": [
    "## (c) Hamming Distance between True Labels and the Labels Assigned by Clusters"
   ]
  },
  {
   "cell_type": "code",
   "execution_count": 217,
   "metadata": {
    "ExecuteTime": {
     "end_time": "2019-03-28T06:27:43.199047Z",
     "start_time": "2019-03-28T06:27:43.153601Z"
    }
   },
   "outputs": [
    {
     "name": "stdout",
     "output_type": "stream",
     "text": [
      "The hamming score of whose data between true labels and the labels assigned by clusters\n",
      " 0.22191336576326157\n"
     ]
    }
   ],
   "source": [
    "print(\"The hamming score of whose data between true labels and the labels assigned by clusters\\n\",\n",
    "      np.array([hamming_loss(frogs_y.values[:, i], pred_y_cluster.values[:, i]) for i in range(3)]).mean())\n"
   ]
  }
 ],
 "metadata": {
  "kernelspec": {
   "display_name": "Python 3",
   "language": "python",
   "name": "python3"
  },
  "language_info": {
   "codemirror_mode": {
    "name": "ipython",
    "version": 3
   },
   "file_extension": ".py",
   "mimetype": "text/x-python",
   "name": "python",
   "nbconvert_exporter": "python",
   "pygments_lexer": "ipython3",
   "version": "3.7.1"
  },
  "toc": {
   "base_numbering": 1,
   "nav_menu": {},
   "number_sections": false,
   "sideBar": true,
   "skip_h1_title": false,
   "title_cell": "Table of Contents",
   "title_sidebar": "Contents",
   "toc_cell": false,
   "toc_position": {
    "height": "calc(100% - 180px)",
    "left": "10px",
    "top": "150px",
    "width": "207.188px"
   },
   "toc_section_display": true,
   "toc_window_display": true
  }
 },
 "nbformat": 4,
 "nbformat_minor": 2
}
